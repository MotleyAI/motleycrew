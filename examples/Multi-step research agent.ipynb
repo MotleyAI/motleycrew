{
 "cells": [
  {
   "cell_type": "markdown",
   "id": "0af01a23-58b5-4679-9e9c-89c74708fdab",
   "metadata": {},
   "source": [
    "# Multi-step research agent"
   ]
  },
  {
   "cell_type": "markdown",
   "id": "a0c34f4c-4398-441b-b435-5ec1dc77a282",
   "metadata": {},
   "source": [
    "The research agent is inspired by [this project](https://github.com/rahulnyk/research_agent) and [BabyAGI](https://github.com/yoheinakajima/babyagi/tree/main).\n",
    "\n",
    "The idea is as follows: we start with a research question and some source of data we can retrieve from. We retrieve the data relevant for the original question, but then instead of feeding it into the LLM prompt to answer the question, like a conventional RAG would do, we use it to ask an LLM what further questions, based on the retrieved context, would be most useful to answer the original question. We then pick one of these to do retrieval on, and by repeating that process, build a tree of questions, each with attached context, which we store as a knowledge graph.\n",
    "\n",
    "When we decide we've done this for long enough (currently just a constraint on the number of nodes), we then walk back up the graph, first answering the leaf questions, then using these answers (along with the context retrieved for their parent question) to answer the parent question, etc. "
   ]
  },
  {
   "cell_type": "code",
   "execution_count": 1,
   "id": "f98875ae-db68-4f1d-9c86-93a32633b19d",
   "metadata": {},
   "outputs": [],
   "source": [
    "from pathlib import Path\n",
    "import shutil\n",
    "import os, sys\n",
    "import platform\n",
    "\n",
    "import kuzu\n",
    "from dotenv import load_dotenv\n",
    "\n",
    "# This assumes you have a .env file in the examples folder, containing your OpenAI key\n",
    "load_dotenv()\n",
    "\n",
    "WORKING_DIR = Path(os.path.realpath(\".\"))\n",
    "\n",
    "\n",
    "try: \n",
    "    from motleycrew import MotleyCrew\n",
    "except ImportError:\n",
    "    # if we are running this from source\n",
    "    motleycrew_location = os.path.realpath(WORKING_DIR / \"..\")\n",
    "    sys.path.append(motleycrew_location)\n",
    "\n",
    "if \"Dropbox\" in WORKING_DIR.parts and platform.system() == \"Windows\":\n",
    "    # On Windows, kuzu has file locking issues with Dropbox\n",
    "    DB_PATH = os.path.realpath(os.path.expanduser(\"~\") + \"/Documents/research_db\")\n",
    "else:\n",
    "    DB_PATH = os.path.realpath(WORKING_DIR / \"research_db\")\n",
    "\n",
    "if os.path.isdir(DB_PATH):\n",
    "    shutil.rmtree(DB_PATH)\n",
    "\n",
    "from motleycrew import MotleyCrew\n",
    "from motleycrew.storage import MotleyKuzuGraphStore\n",
    "from motleycrew.common.utils import configure_logging\n",
    "from motleycrew.applications.research_agent.question_task import QuestionTask\n",
    "from motleycrew.applications.research_agent.answer_task import AnswerTask\n",
    "from motleycrew.tools.simple_retriever_tool import SimpleRetrieverTool\n",
    "\n",
    "configure_logging(verbose=True)"
   ]
  },
  {
   "cell_type": "code",
   "execution_count": 2,
   "id": "0f351a51-df42-4c12-8f14-a5fe94d4f145",
   "metadata": {},
   "outputs": [],
   "source": [
    "DATA_DIR = os.path.realpath(os.path.join(WORKING_DIR, \"mahabharata/text/TinyTales\"))\n",
    "PERSIST_DIR = WORKING_DIR / \"storage\""
   ]
  },
  {
   "cell_type": "code",
   "execution_count": 3,
   "id": "eac94541-2eb0-4e5a-9303-03ad924135e0",
   "metadata": {},
   "outputs": [
    {
     "name": "stderr",
     "output_type": "stream",
     "text": [
      "fatal: destination path 'mahabharata' already exists and is not an empty directory.\n"
     ]
    }
   ],
   "source": [
    "# Only run this the first time you run the notebook, to get the raw data\n",
    "!git clone https://github.com/rahulnyk/mahabharata.git"
   ]
  },
  {
   "cell_type": "code",
   "execution_count": 4,
   "id": "714bc24e-b28f-4d98-8fc9-6cdc54b7ced3",
   "metadata": {},
   "outputs": [
    {
     "name": "stderr",
     "output_type": "stream",
     "text": [
      "2024-05-24 11:08:05,071 - INFO - Node table MotleyGraphNode does not exist in the database, creating\n",
      "2024-05-24 11:08:05,084 - INFO - Relation table dummy from MotleyGraphNode to MotleyGraphNode does not exist in the database, creating\n"
     ]
    }
   ],
   "source": [
    "db = kuzu.Database(DB_PATH)\n",
    "graph_store = MotleyKuzuGraphStore(db)\n",
    "crew = MotleyCrew(graph_store=graph_store)"
   ]
  },
  {
   "cell_type": "code",
   "execution_count": 5,
   "id": "3432c972-8130-4095-b7a0-6d3affc216f8",
   "metadata": {},
   "outputs": [
    {
     "name": "stderr",
     "output_type": "stream",
     "text": [
      "2024-05-24 11:08:05,976 - INFO - Loading all indices.\n",
      "2024-05-24 11:08:06,247 - INFO - Node table TaskNode does not exist in the database, creating\n",
      "2024-05-24 11:08:06,263 - INFO - Property name not present in table for label TaskNode, creating\n",
      "2024-05-24 11:08:06,276 - INFO - Property done not present in table for label TaskNode, creating\n",
      "2024-05-24 11:08:06,288 - INFO - Inserting new node with label TaskNode: name='QuestionTask' done=False\n",
      "2024-05-24 11:08:06,305 - INFO - Node created OK\n",
      "2024-05-24 11:08:06,307 - INFO - Relation table task_is_upstream from TaskNode to TaskNode does not exist in the database, creating\n",
      "2024-05-24 11:08:06,319 - INFO - Node table Question does not exist in the database, creating\n",
      "2024-05-24 11:08:06,330 - INFO - Property question not present in table for label Question, creating\n",
      "2024-05-24 11:08:06,342 - INFO - Property answer not present in table for label Question, creating\n",
      "2024-05-24 11:08:06,354 - INFO - Property context not present in table for label Question, creating\n",
      "2024-05-24 11:08:06,354 - WARNING - No known Cypher type matching annotation typing.Optional[list[str]], will use JSON string\n",
      "2024-05-24 11:08:06,368 - INFO - Inserting new node with label Question: question='Why did Arjuna kill Karna, his half-brother?' answer=None context=None\n",
      "2024-05-24 11:08:06,384 - INFO - Node created OK\n",
      "2024-05-24 11:08:06,968 - INFO - Inserting new node with label TaskNode: name='AnswerTask' done=False\n",
      "2024-05-24 11:08:06,987 - INFO - Node created OK\n",
      "2024-05-24 11:08:07,279 - INFO - Creating relation task_is_upstream from TaskNode:0 to TaskNode:1\n",
      "2024-05-24 11:08:07,298 - INFO - Relation created OK\n"
     ]
    },
    {
     "data": {
      "text/plain": [
       "QuestionTask(name=QuestionTask, done=False)"
      ]
     },
     "execution_count": 5,
     "metadata": {},
     "output_type": "execute_result"
    }
   ],
   "source": [
    "QUESTION = \"Why did Arjuna kill Karna, his half-brother?\"\n",
    "MAX_ITER = 3\n",
    "ANSWER_LENGTH = 200\n",
    "\n",
    "query_tool = SimpleRetrieverTool(DATA_DIR, PERSIST_DIR, return_strings_only=True)\n",
    "\n",
    "# We need to pass the crew to the Tasks so they have access to the graph store\n",
    "# and the crew is aware of them\n",
    "\n",
    "# The question task is responsible for new question generation\n",
    "question_recipe = QuestionTask(\n",
    "    crew=crew, question=QUESTION, query_tool=query_tool, max_iter=MAX_ITER\n",
    ")\n",
    "\n",
    "# The answer task is responsible for rolling the answers up the tree\n",
    "answer_recipe = AnswerTask(answer_length=ANSWER_LENGTH, crew=crew)\n",
    "\n",
    "# Only kick off the answer task once the question task is done\n",
    "question_recipe >> answer_recipe"
   ]
  },
  {
   "cell_type": "code",
   "execution_count": 6,
   "id": "5e045362-5376-4198-83d2-0d380fb1e17f",
   "metadata": {
    "scrolled": true
   },
   "outputs": [
    {
     "name": "stderr",
     "output_type": "stream",
     "text": [
      "2024-05-24 11:08:07,306 - WARNING - Multithreading is not implemented yet, will run in single thread\n",
      "2024-05-24 11:08:07,329 - INFO - Available tasks: [QuestionTask(name=QuestionTask, done=False)]\n",
      "2024-05-24 11:08:07,329 - INFO - Processing task: QuestionTask(name=QuestionTask, done=False)\n",
      "2024-05-24 11:08:07,338 - INFO - Loaded unanswered questions: [Question(id=0, question=Why did Arjuna kill Karna, his half-brother?, answer=None, context=None)]\n",
      "2024-05-24 11:08:08,239 - INFO - HTTP Request: POST https://api.openai.com/v1/chat/completions \"HTTP/1.1 200 OK\"\n",
      "2024-05-24 11:08:08,259 - INFO - Most pertinent question according to the tool: question='Why did Arjuna kill Karna, his half-brother?' answer=None context=None\n",
      "2024-05-24 11:08:08,260 - INFO - Got a matching unit for task QuestionTask(name=QuestionTask, done=False)\n",
      "2024-05-24 11:08:08,261 - INFO - Processing task: TaskUnit(status=pending)\n",
      "2024-05-24 11:08:08,262 - INFO - Assigned unit TaskUnit(status=pending) to agent <motleycrew.applications.research_agent.question_generator.QuestionGeneratorTool object at 0x0000023683340090>, dispatching\n",
      "2024-05-24 11:08:08,262 - INFO - Node TaskUnit(status=running) does not exist, creating\n",
      "2024-05-24 11:08:08,264 - INFO - Node table QuestionGenerationTaskUnit does not exist in the database, creating\n",
      "2024-05-24 11:08:08,281 - INFO - Property status not present in table for label QuestionGenerationTaskUnit, creating\n",
      "2024-05-24 11:08:08,301 - INFO - Property output not present in table for label QuestionGenerationTaskUnit, creating\n",
      "2024-05-24 11:08:08,302 - WARNING - No known Cypher type matching annotation typing.Optional[typing.Any], will use JSON string\n",
      "2024-05-24 11:08:08,315 - INFO - Property question not present in table for label QuestionGenerationTaskUnit, creating\n",
      "2024-05-24 11:08:08,316 - WARNING - No known Cypher type matching annotation <class 'motleycrew.applications.research_agent.question.Question'>, will use JSON string\n",
      "2024-05-24 11:08:08,329 - INFO - Inserting new node with label QuestionGenerationTaskUnit: TaskUnit(status=running)\n",
      "2024-05-24 11:08:08,329 - WARNING - No known Cypher type matching annotation <class 'motleycrew.applications.research_agent.question.Question'>, will use JSON string\n",
      "2024-05-24 11:08:08,344 - INFO - Node created OK\n",
      "2024-05-24 11:08:08,348 - INFO - Relation from TaskUnit(status=running) to name='QuestionTask' done=False does not exist, creating\n",
      "2024-05-24 11:08:08,351 - INFO - Relation table task_unit_belongs from QuestionGenerationTaskUnit to TaskNode does not exist in the database, creating\n",
      "2024-05-24 11:08:08,359 - INFO - Creating relation task_unit_belongs from QuestionGenerationTaskUnit:0 to TaskNode:0\n",
      "2024-05-24 11:08:08,372 - INFO - Relation created OK\n",
      "2024-05-24 11:08:08,836 - INFO - HTTP Request: POST https://api.openai.com/v1/embeddings \"HTTP/1.1 200 OK\"\n",
      "2024-05-24 11:08:12,391 - INFO - HTTP Request: POST https://api.openai.com/v1/chat/completions \"HTTP/1.1 200 OK\"\n",
      "2024-05-24 11:08:12,402 - INFO - Inserting question: What were the circumstances that led to Arjuna killing Karna during their duel?\n",
      "2024-05-24 11:08:12,405 - WARNING - No known Cypher type matching annotation typing.Optional[list[str]], will use JSON string\n",
      "2024-05-24 11:08:12,407 - INFO - Inserting new node with label Question: question='What were the circumstances that led to Arjuna killing Karna during their duel?' answer=None context=None\n",
      "2024-05-24 11:08:12,440 - INFO - Node created OK\n",
      "2024-05-24 11:08:12,445 - INFO - Relation table is_subquestion from Question to Question does not exist in the database, creating\n",
      "2024-05-24 11:08:12,455 - INFO - Creating relation is_subquestion from Question:0 to Question:1\n",
      "2024-05-24 11:08:12,471 - INFO - Relation created OK\n",
      "2024-05-24 11:08:12,471 - INFO - Inserting question: What role did Krishna play in the duel between Arjuna and Karna?\n",
      "2024-05-24 11:08:12,473 - INFO - Inserting new node with label Question: question='What role did Krishna play in the duel between Arjuna and Karna?' answer=None context=None\n",
      "2024-05-24 11:08:12,485 - INFO - Node created OK\n",
      "2024-05-24 11:08:12,490 - INFO - Creating relation is_subquestion from Question:0 to Question:2\n",
      "2024-05-24 11:08:12,510 - INFO - Relation created OK\n",
      "2024-05-24 11:08:12,511 - INFO - Inserting question: How did Karna's previous actions and curses affect his performance and fate in the battle against Arjuna?\n",
      "2024-05-24 11:08:12,512 - INFO - Inserting new node with label Question: question=\"How did Karna's previous actions and curses affect his performance and fate in the battle against Arjuna?\" answer=None context=None\n",
      "2024-05-24 11:08:12,526 - INFO - Node created OK\n",
      "2024-05-24 11:08:12,531 - INFO - Creating relation is_subquestion from Question:0 to Question:3\n",
      "2024-05-24 11:08:12,551 - INFO - Relation created OK\n",
      "2024-05-24 11:08:12,552 - INFO - Inserted 3 questions\n",
      "2024-05-24 11:08:12,555 - WARNING - No known Cypher type matching annotation typing.Optional[typing.Any], will use JSON string\n",
      "2024-05-24 11:08:12,568 - INFO - Task unit TaskUnit(status=running) completed, marking as done\n",
      "2024-05-24 11:08:12,582 - INFO - ==== Completed iteration 1 of 3 ====\n",
      "2024-05-24 11:08:12,594 - INFO - Available tasks: [QuestionTask(name=QuestionTask, done=False)]\n",
      "2024-05-24 11:08:12,595 - INFO - Processing task: QuestionTask(name=QuestionTask, done=False)\n",
      "2024-05-24 11:08:12,607 - INFO - Loaded unanswered questions: [Question(id=1, question=What were the circumstances that led to Arjuna killing Karna during their duel?, answer=None, context=None), Question(id=2, question=What role did Krishna play in the duel between Arjuna and Karna?, answer=None, context=None), Question(id=3, question=How did Karna's previous actions and curses affect his performance and fate in the battle against Arjuna?, answer=None, context=None)]\n",
      "2024-05-24 11:08:16,103 - INFO - HTTP Request: POST https://api.openai.com/v1/chat/completions \"HTTP/1.1 200 OK\"\n",
      "2024-05-24 11:08:16,112 - INFO - Most pertinent question according to the tool: question='What were the circumstances that led to Arjuna killing Karna during their duel?' answer=None context=None\n",
      "2024-05-24 11:08:16,113 - INFO - Got a matching unit for task QuestionTask(name=QuestionTask, done=False)\n",
      "2024-05-24 11:08:16,114 - INFO - Processing task: TaskUnit(status=pending)\n",
      "2024-05-24 11:08:16,114 - INFO - Assigned unit TaskUnit(status=pending) to agent <motleycrew.applications.research_agent.question_generator.QuestionGeneratorTool object at 0x0000023683340090>, dispatching\n",
      "2024-05-24 11:08:16,115 - INFO - Node TaskUnit(status=running) does not exist, creating\n",
      "2024-05-24 11:08:16,117 - INFO - Inserting new node with label QuestionGenerationTaskUnit: TaskUnit(status=running)\n",
      "2024-05-24 11:08:16,118 - WARNING - No known Cypher type matching annotation <class 'motleycrew.applications.research_agent.question.Question'>, will use JSON string\n",
      "2024-05-24 11:08:16,138 - INFO - Node created OK\n",
      "2024-05-24 11:08:16,157 - INFO - Relation from TaskUnit(status=running) to name='QuestionTask' done=False does not exist, creating\n",
      "2024-05-24 11:08:16,160 - INFO - Creating relation task_unit_belongs from QuestionGenerationTaskUnit:1 to TaskNode:0\n",
      "2024-05-24 11:08:16,175 - INFO - Relation created OK\n",
      "2024-05-24 11:08:16,650 - INFO - HTTP Request: POST https://api.openai.com/v1/embeddings \"HTTP/1.1 200 OK\"\n",
      "2024-05-24 11:08:22,918 - INFO - HTTP Request: POST https://api.openai.com/v1/chat/completions \"HTTP/1.1 200 OK\"\n",
      "2024-05-24 11:08:22,932 - INFO - Inserting question: What role did Krishna play in the circumstances leading to Karna's death during the duel with Arjuna?\n",
      "2024-05-24 11:08:22,935 - WARNING - No known Cypher type matching annotation typing.Optional[list[str]], will use JSON string\n",
      "2024-05-24 11:08:22,944 - INFO - Inserting new node with label Question: question=\"What role did Krishna play in the circumstances leading to Karna's death during the duel with Arjuna?\" answer=None context=None\n",
      "2024-05-24 11:08:22,968 - INFO - Node created OK\n",
      "2024-05-24 11:08:22,971 - INFO - Creating relation is_subquestion from Question:1 to Question:4\n",
      "2024-05-24 11:08:22,990 - INFO - Relation created OK\n",
      "2024-05-24 11:08:22,990 - INFO - Inserting question: How did Karna's chariot getting stuck in the mud influence the outcome of his duel with Arjuna?\n",
      "2024-05-24 11:08:22,992 - INFO - Inserting new node with label Question: question=\"How did Karna's chariot getting stuck in the mud influence the outcome of his duel with Arjuna?\" answer=None context=None\n",
      "2024-05-24 11:08:23,013 - INFO - Node created OK\n",
      "2024-05-24 11:08:23,017 - INFO - Creating relation is_subquestion from Question:1 to Question:5\n",
      "2024-05-24 11:08:23,035 - INFO - Relation created OK\n",
      "2024-05-24 11:08:23,036 - INFO - Inserting question: What were the consequences of Karna forgetting the mantra to launch the Brahmastra during his duel with Arjuna?\n",
      "2024-05-24 11:08:23,037 - INFO - Inserting new node with label Question: question='What were the consequences of Karna forgetting the mantra to launch the Brahmastra during his duel with Arjuna?' answer=None context=None\n",
      "2024-05-24 11:08:23,051 - INFO - Node created OK\n",
      "2024-05-24 11:08:23,056 - INFO - Creating relation is_subquestion from Question:1 to Question:6\n",
      "2024-05-24 11:08:23,074 - INFO - Relation created OK\n",
      "2024-05-24 11:08:23,074 - INFO - Inserted 3 questions\n",
      "2024-05-24 11:08:23,076 - WARNING - No known Cypher type matching annotation typing.Optional[typing.Any], will use JSON string\n",
      "2024-05-24 11:08:23,092 - INFO - Task unit TaskUnit(status=running) completed, marking as done\n",
      "2024-05-24 11:08:23,106 - INFO - ==== Completed iteration 2 of 3 ====\n",
      "2024-05-24 11:08:23,118 - INFO - Available tasks: [QuestionTask(name=QuestionTask, done=False)]\n",
      "2024-05-24 11:08:23,118 - INFO - Processing task: QuestionTask(name=QuestionTask, done=False)\n",
      "2024-05-24 11:08:23,129 - INFO - Loaded unanswered questions: [Question(id=2, question=What role did Krishna play in the duel between Arjuna and Karna?, answer=None, context=None), Question(id=3, question=How did Karna's previous actions and curses affect his performance and fate in the battle against Arjuna?, answer=None, context=None), Question(id=4, question=What role did Krishna play in the circumstances leading to Karna's death during the duel with Arjuna?, answer=None, context=None), Question(id=5, question=How did Karna's chariot getting stuck in the mud influence the outcome of his duel with Arjuna?, answer=None, context=None), Question(id=6, question=What were the consequences of Karna forgetting the mantra to launch the Brahmastra during his duel with Arjuna?, answer=None, context=None)]\n",
      "2024-05-24 11:08:23,905 - INFO - HTTP Request: POST https://api.openai.com/v1/chat/completions \"HTTP/1.1 200 OK\"\n",
      "2024-05-24 11:08:23,915 - INFO - Most pertinent question according to the tool: question=\"What role did Krishna play in the circumstances leading to Karna's death during the duel with Arjuna?\" answer=None context=None\n",
      "2024-05-24 11:08:23,916 - INFO - Got a matching unit for task QuestionTask(name=QuestionTask, done=False)\n",
      "2024-05-24 11:08:23,917 - INFO - Processing task: TaskUnit(status=pending)\n",
      "2024-05-24 11:08:23,917 - INFO - Assigned unit TaskUnit(status=pending) to agent <motleycrew.applications.research_agent.question_generator.QuestionGeneratorTool object at 0x0000023683340090>, dispatching\n",
      "2024-05-24 11:08:23,918 - INFO - Node TaskUnit(status=running) does not exist, creating\n",
      "2024-05-24 11:08:23,919 - INFO - Inserting new node with label QuestionGenerationTaskUnit: TaskUnit(status=running)\n",
      "2024-05-24 11:08:23,920 - WARNING - No known Cypher type matching annotation <class 'motleycrew.applications.research_agent.question.Question'>, will use JSON string\n",
      "2024-05-24 11:08:23,938 - INFO - Node created OK\n",
      "2024-05-24 11:08:23,954 - INFO - Relation from TaskUnit(status=running) to name='QuestionTask' done=False does not exist, creating\n",
      "2024-05-24 11:08:23,959 - INFO - Creating relation task_unit_belongs from QuestionGenerationTaskUnit:2 to TaskNode:0\n",
      "2024-05-24 11:08:23,975 - INFO - Relation created OK\n",
      "2024-05-24 11:08:24,362 - INFO - HTTP Request: POST https://api.openai.com/v1/embeddings \"HTTP/1.1 200 OK\"\n",
      "2024-05-24 11:08:28,609 - INFO - HTTP Request: POST https://api.openai.com/v1/chat/completions \"HTTP/1.1 200 OK\"\n",
      "2024-05-24 11:08:28,622 - INFO - Inserting question: What specific actions did Krishna take during Karna's duel with Arjuna that influenced the outcome of the battle?\n",
      "2024-05-24 11:08:28,626 - INFO - Inserting new node with label Question: question=\"What specific actions did Krishna take during Karna's duel with Arjuna that influenced the outcome of the battle?\" answer=None context=None\n",
      "2024-05-24 11:08:28,626 - WARNING - No known Cypher type matching annotation typing.Optional[list[str]], will use JSON string\n",
      "2024-05-24 11:08:28,653 - INFO - Node created OK\n",
      "2024-05-24 11:08:28,666 - INFO - Creating relation is_subquestion from Question:4 to Question:7\n",
      "2024-05-24 11:08:28,682 - INFO - Relation created OK\n",
      "2024-05-24 11:08:28,683 - INFO - Inserting question: How did Krishna's interventions during the duel between Karna and Arjuna align with his broader role in the Mahabharata war?\n",
      "2024-05-24 11:08:28,684 - INFO - Inserting new node with label Question: question=\"How did Krishna's interventions during the duel between Karna and Arjuna align with his broader role in the Mahabharata war?\" answer=None context=None\n",
      "2024-05-24 11:08:28,697 - INFO - Node created OK\n",
      "2024-05-24 11:08:28,701 - INFO - Creating relation is_subquestion from Question:4 to Question:8\n",
      "2024-05-24 11:08:28,718 - INFO - Relation created OK\n",
      "2024-05-24 11:08:28,719 - INFO - Inserting question: What were the consequences of Krishna's actions on Karna's fate during his duel with Arjuna?\n",
      "2024-05-24 11:08:28,720 - INFO - Inserting new node with label Question: question=\"What were the consequences of Krishna's actions on Karna's fate during his duel with Arjuna?\" answer=None context=None\n",
      "2024-05-24 11:08:28,738 - INFO - Node created OK\n",
      "2024-05-24 11:08:28,741 - INFO - Creating relation is_subquestion from Question:4 to Question:9\n",
      "2024-05-24 11:08:28,758 - INFO - Relation created OK\n",
      "2024-05-24 11:08:28,758 - INFO - Inserted 3 questions\n",
      "2024-05-24 11:08:28,761 - WARNING - No known Cypher type matching annotation typing.Optional[typing.Any], will use JSON string\n",
      "2024-05-24 11:08:28,784 - INFO - Task unit TaskUnit(status=running) completed, marking as done\n",
      "2024-05-24 11:08:28,806 - INFO - ==== Completed iteration 3 of 3 ====\n",
      "2024-05-24 11:08:28,842 - INFO - Available tasks: [AnswerTask(name=AnswerTask, done=False)]\n",
      "2024-05-24 11:08:28,842 - INFO - Processing task: AnswerTask(name=AnswerTask, done=False)\n",
      "2024-05-24 11:08:28,861 - INFO - Available questions: [Question(id=4, question=What role did Krishna play in the circumstances leading to Karna's death during the duel with Arjuna?, answer=None, context=[\"\"I made a garland for you too!...])]\n",
      "2024-05-24 11:08:28,862 - INFO - Got a matching unit for task AnswerTask(name=AnswerTask, done=False)\n",
      "2024-05-24 11:08:28,862 - INFO - Processing task: TaskUnit(status=pending)\n",
      "2024-05-24 11:08:28,863 - INFO - Assigned unit TaskUnit(status=pending) to agent <motleycrew.applications.research_agent.question_answerer.AnswerSubQuestionTool object at 0x0000023681B06E50>, dispatching\n",
      "2024-05-24 11:08:28,863 - INFO - Node TaskUnit(status=running) does not exist, creating\n",
      "2024-05-24 11:08:28,865 - INFO - Node table QuestionAnsweringTaskUnit does not exist in the database, creating\n",
      "2024-05-24 11:08:28,876 - INFO - Property status not present in table for label QuestionAnsweringTaskUnit, creating\n",
      "2024-05-24 11:08:28,889 - INFO - Property output not present in table for label QuestionAnsweringTaskUnit, creating\n",
      "2024-05-24 11:08:28,890 - WARNING - No known Cypher type matching annotation typing.Optional[typing.Any], will use JSON string\n",
      "2024-05-24 11:08:28,902 - INFO - Property question not present in table for label QuestionAnsweringTaskUnit, creating\n",
      "2024-05-24 11:08:28,902 - WARNING - No known Cypher type matching annotation <class 'motleycrew.applications.research_agent.question.Question'>, will use JSON string\n",
      "2024-05-24 11:08:28,914 - INFO - Inserting new node with label QuestionAnsweringTaskUnit: TaskUnit(status=running)\n",
      "2024-05-24 11:08:28,915 - WARNING - No known Cypher type matching annotation <class 'motleycrew.applications.research_agent.question.Question'>, will use JSON string\n",
      "2024-05-24 11:08:28,930 - INFO - Node created OK\n",
      "2024-05-24 11:08:28,934 - INFO - Relation from TaskUnit(status=running) to name='AnswerTask' done=False does not exist, creating\n",
      "2024-05-24 11:08:28,938 - INFO - Relation table task_unit_belongs from QuestionAnsweringTaskUnit to TaskNode does not exist in the database, creating\n"
     ]
    },
    {
     "ename": "RuntimeError",
     "evalue": "Binder exception: task_unit_belongs already exists in catalog.",
     "output_type": "error",
     "traceback": [
      "\u001b[1;31m---------------------------------------------------------------------------\u001b[0m",
      "\u001b[1;31mRuntimeError\u001b[0m                              Traceback (most recent call last)",
      "Cell \u001b[1;32mIn[6], line 2\u001b[0m\n\u001b[0;32m      1\u001b[0m \u001b[38;5;66;03m# And now run the recipes\u001b[39;00m\n\u001b[1;32m----> 2\u001b[0m done_items \u001b[38;5;241m=\u001b[39m \u001b[43mcrew\u001b[49m\u001b[38;5;241;43m.\u001b[39;49m\u001b[43mrun\u001b[49m\u001b[43m(\u001b[49m\u001b[43m)\u001b[49m\n",
      "File \u001b[1;32m~\\Dropbox\\Code\\motleycrew\\motleycrew\\crew.py:44\u001b[0m, in \u001b[0;36mMotleyCrew.run\u001b[1;34m(self)\u001b[0m\n\u001b[0;32m     41\u001b[0m \u001b[38;5;28;01mif\u001b[39;00m \u001b[38;5;129;01mnot\u001b[39;00m \u001b[38;5;28mself\u001b[39m\u001b[38;5;241m.\u001b[39msingle_thread:\n\u001b[0;32m     42\u001b[0m     logging\u001b[38;5;241m.\u001b[39mwarning(\u001b[38;5;124m\"\u001b[39m\u001b[38;5;124mMultithreading is not implemented yet, will run in single thread\u001b[39m\u001b[38;5;124m\"\u001b[39m)\n\u001b[1;32m---> 44\u001b[0m \u001b[38;5;28;01mreturn\u001b[39;00m \u001b[38;5;28;43mself\u001b[39;49m\u001b[38;5;241;43m.\u001b[39;49m\u001b[43m_run_sync\u001b[49m\u001b[43m(\u001b[49m\u001b[43m)\u001b[49m\n",
      "File \u001b[1;32m~\\Dropbox\\Code\\motleycrew\\motleycrew\\crew.py:91\u001b[0m, in \u001b[0;36mMotleyCrew._run_sync\u001b[1;34m(self)\u001b[0m\n\u001b[0;32m     89\u001b[0m logging\u001b[38;5;241m.\u001b[39minfo(\u001b[38;5;124m\"\u001b[39m\u001b[38;5;124mAssigned unit \u001b[39m\u001b[38;5;132;01m%s\u001b[39;00m\u001b[38;5;124m to agent \u001b[39m\u001b[38;5;132;01m%s\u001b[39;00m\u001b[38;5;124m, dispatching\u001b[39m\u001b[38;5;124m\"\u001b[39m, current_unit, agent)\n\u001b[0;32m     90\u001b[0m current_unit\u001b[38;5;241m.\u001b[39mset_running()\n\u001b[1;32m---> 91\u001b[0m \u001b[43mtask\u001b[49m\u001b[38;5;241;43m.\u001b[39;49m\u001b[43mregister_started_unit\u001b[49m\u001b[43m(\u001b[49m\u001b[43mcurrent_unit\u001b[49m\u001b[43m)\u001b[49m\n\u001b[0;32m     93\u001b[0m \u001b[38;5;66;03m# TODO: accept and handle some sort of return value? Or just the final state of the task?\u001b[39;00m\n\u001b[0;32m     94\u001b[0m result \u001b[38;5;241m=\u001b[39m agent\u001b[38;5;241m.\u001b[39minvoke(current_unit\u001b[38;5;241m.\u001b[39mas_dict())\n",
      "File \u001b[1;32m~\\Dropbox\\Code\\motleycrew\\motleycrew\\tasks\\task.py:137\u001b[0m, in \u001b[0;36mTask.register_started_unit\u001b[1;34m(self, unit)\u001b[0m\n\u001b[0;32m    134\u001b[0m \u001b[38;5;28;01massert\u001b[39;00m \u001b[38;5;28misinstance\u001b[39m(unit, \u001b[38;5;28mself\u001b[39m\u001b[38;5;241m.\u001b[39mTASK_UNIT_CLASS)\n\u001b[0;32m    135\u001b[0m \u001b[38;5;28;01massert\u001b[39;00m \u001b[38;5;129;01mnot\u001b[39;00m unit\u001b[38;5;241m.\u001b[39mdone\n\u001b[1;32m--> 137\u001b[0m \u001b[38;5;28;43mself\u001b[39;49m\u001b[38;5;241;43m.\u001b[39;49m\u001b[43mgraph_store\u001b[49m\u001b[38;5;241;43m.\u001b[39;49m\u001b[43mupsert_triplet\u001b[49m\u001b[43m(\u001b[49m\n\u001b[0;32m    138\u001b[0m \u001b[43m    \u001b[49m\u001b[43mfrom_node\u001b[49m\u001b[38;5;241;43m=\u001b[39;49m\u001b[43munit\u001b[49m\u001b[43m,\u001b[49m\n\u001b[0;32m    139\u001b[0m \u001b[43m    \u001b[49m\u001b[43mto_node\u001b[49m\u001b[38;5;241;43m=\u001b[39;49m\u001b[38;5;28;43mself\u001b[39;49m\u001b[38;5;241;43m.\u001b[39;49m\u001b[43mnode\u001b[49m\u001b[43m,\u001b[49m\n\u001b[0;32m    140\u001b[0m \u001b[43m    \u001b[49m\u001b[43mlabel\u001b[49m\u001b[38;5;241;43m=\u001b[39;49m\u001b[38;5;28;43mself\u001b[39;49m\u001b[38;5;241;43m.\u001b[39;49m\u001b[43mTASK_UNIT_BELONGS_LABEL\u001b[49m\u001b[43m,\u001b[49m\n\u001b[0;32m    141\u001b[0m \u001b[43m\u001b[49m\u001b[43m)\u001b[49m\n",
      "File \u001b[1;32m~\\Dropbox\\Code\\motleycrew\\motleycrew\\storage\\kuzu_graph_store.py:300\u001b[0m, in \u001b[0;36mMotleyKuzuGraphStore.upsert_triplet\u001b[1;34m(self, from_node, to_node, label)\u001b[0m\n\u001b[0;32m    298\u001b[0m \u001b[38;5;28;01mif\u001b[39;00m \u001b[38;5;129;01mnot\u001b[39;00m \u001b[38;5;28mself\u001b[39m\u001b[38;5;241m.\u001b[39mcheck_relation_exists(from_node\u001b[38;5;241m=\u001b[39mfrom_node, to_node\u001b[38;5;241m=\u001b[39mto_node, label\u001b[38;5;241m=\u001b[39mlabel):\n\u001b[0;32m    299\u001b[0m     logging\u001b[38;5;241m.\u001b[39minfo(\u001b[38;5;124m\"\u001b[39m\u001b[38;5;124mRelation from \u001b[39m\u001b[38;5;132;01m%s\u001b[39;00m\u001b[38;5;124m to \u001b[39m\u001b[38;5;132;01m%s\u001b[39;00m\u001b[38;5;124m does not exist, creating\u001b[39m\u001b[38;5;124m\"\u001b[39m, from_node, to_node)\n\u001b[1;32m--> 300\u001b[0m     \u001b[38;5;28;43mself\u001b[39;49m\u001b[38;5;241;43m.\u001b[39;49m\u001b[43mcreate_relation\u001b[49m\u001b[43m(\u001b[49m\u001b[43mfrom_node\u001b[49m\u001b[38;5;241;43m=\u001b[39;49m\u001b[43mfrom_node\u001b[49m\u001b[43m,\u001b[49m\u001b[43m \u001b[49m\u001b[43mto_node\u001b[49m\u001b[38;5;241;43m=\u001b[39;49m\u001b[43mto_node\u001b[49m\u001b[43m,\u001b[49m\u001b[43m \u001b[49m\u001b[43mlabel\u001b[49m\u001b[38;5;241;43m=\u001b[39;49m\u001b[43mlabel\u001b[49m\u001b[43m)\u001b[49m\n",
      "File \u001b[1;32m~\\Dropbox\\Code\\motleycrew\\motleycrew\\storage\\kuzu_graph_store.py:259\u001b[0m, in \u001b[0;36mMotleyKuzuGraphStore.create_relation\u001b[1;34m(self, from_node, to_node, label)\u001b[0m\n\u001b[0;32m    250\u001b[0m \u001b[38;5;28;01massert\u001b[39;00m \u001b[38;5;28mself\u001b[39m\u001b[38;5;241m.\u001b[39mcheck_node_exists(from_node), (\n\u001b[0;32m    251\u001b[0m     \u001b[38;5;124m\"\u001b[39m\u001b[38;5;124mFrom-node is not present in the database, \u001b[39m\u001b[38;5;124m\"\u001b[39m\n\u001b[0;32m    252\u001b[0m     \u001b[38;5;124m\"\u001b[39m\u001b[38;5;124mconsider using upsert_triplet() for such cases\u001b[39m\u001b[38;5;124m\"\u001b[39m\n\u001b[0;32m    253\u001b[0m )\n\u001b[0;32m    254\u001b[0m \u001b[38;5;28;01massert\u001b[39;00m \u001b[38;5;28mself\u001b[39m\u001b[38;5;241m.\u001b[39mcheck_node_exists(to_node), (\n\u001b[0;32m    255\u001b[0m     \u001b[38;5;124m\"\u001b[39m\u001b[38;5;124mTo-node is not present in the database, \u001b[39m\u001b[38;5;124m\"\u001b[39m\n\u001b[0;32m    256\u001b[0m     \u001b[38;5;124m\"\u001b[39m\u001b[38;5;124mconsider using upsert_triplet() for such cases\u001b[39m\u001b[38;5;124m\"\u001b[39m\n\u001b[0;32m    257\u001b[0m )\n\u001b[1;32m--> 259\u001b[0m \u001b[38;5;28;43mself\u001b[39;49m\u001b[38;5;241;43m.\u001b[39;49m\u001b[43mensure_relation_table\u001b[49m\u001b[43m(\u001b[49m\u001b[43mfrom_class\u001b[49m\u001b[38;5;241;43m=\u001b[39;49m\u001b[38;5;28;43mtype\u001b[39;49m\u001b[43m(\u001b[49m\u001b[43mfrom_node\u001b[49m\u001b[43m)\u001b[49m\u001b[43m,\u001b[49m\u001b[43m \u001b[49m\u001b[43mto_class\u001b[49m\u001b[38;5;241;43m=\u001b[39;49m\u001b[38;5;28;43mtype\u001b[39;49m\u001b[43m(\u001b[49m\u001b[43mto_node\u001b[49m\u001b[43m)\u001b[49m\u001b[43m,\u001b[49m\u001b[43m \u001b[49m\u001b[43mlabel\u001b[49m\u001b[38;5;241;43m=\u001b[39;49m\u001b[43mlabel\u001b[49m\u001b[43m)\u001b[49m\n\u001b[0;32m    261\u001b[0m logging\u001b[38;5;241m.\u001b[39minfo(\n\u001b[0;32m    262\u001b[0m     \u001b[38;5;124m\"\u001b[39m\u001b[38;5;124mCreating relation \u001b[39m\u001b[38;5;132;01m%s\u001b[39;00m\u001b[38;5;124m from \u001b[39m\u001b[38;5;132;01m%s\u001b[39;00m\u001b[38;5;124m:\u001b[39m\u001b[38;5;132;01m%s\u001b[39;00m\u001b[38;5;124m to \u001b[39m\u001b[38;5;132;01m%s\u001b[39;00m\u001b[38;5;124m:\u001b[39m\u001b[38;5;132;01m%s\u001b[39;00m\u001b[38;5;124m\"\u001b[39m,\n\u001b[0;32m    263\u001b[0m     label,\n\u001b[1;32m   (...)\u001b[0m\n\u001b[0;32m    267\u001b[0m     to_node\u001b[38;5;241m.\u001b[39mid,\n\u001b[0;32m    268\u001b[0m )\n\u001b[0;32m    270\u001b[0m create_result \u001b[38;5;241m=\u001b[39m \u001b[38;5;28mself\u001b[39m\u001b[38;5;241m.\u001b[39m_execute_query(\n\u001b[0;32m    271\u001b[0m     (\n\u001b[0;32m    272\u001b[0m         \u001b[38;5;124m\"\u001b[39m\u001b[38;5;124mMATCH (n1:\u001b[39m\u001b[38;5;132;01m{}\u001b[39;00m\u001b[38;5;124m), (n2:\u001b[39m\u001b[38;5;132;01m{}\u001b[39;00m\u001b[38;5;124m) WHERE n1.id = $from_id AND n2.id = $to_id \u001b[39m\u001b[38;5;124m\"\u001b[39m\n\u001b[1;32m   (...)\u001b[0m\n\u001b[0;32m    279\u001b[0m     },\n\u001b[0;32m    280\u001b[0m )\n",
      "File \u001b[1;32m~\\Dropbox\\Code\\motleycrew\\motleycrew\\storage\\kuzu_graph_store.py:125\u001b[0m, in \u001b[0;36mMotleyKuzuGraphStore.ensure_relation_table\u001b[1;34m(self, from_class, to_class, label)\u001b[0m\n\u001b[0;32m    115\u001b[0m \u001b[38;5;28;01mif\u001b[39;00m \u001b[38;5;129;01mnot\u001b[39;00m \u001b[38;5;28mself\u001b[39m\u001b[38;5;241m.\u001b[39m_check_rel_table_exists(\n\u001b[0;32m    116\u001b[0m     from_label\u001b[38;5;241m=\u001b[39mfrom_class\u001b[38;5;241m.\u001b[39mget_label(), to_label\u001b[38;5;241m=\u001b[39mto_class\u001b[38;5;241m.\u001b[39mget_label(), rel_label\u001b[38;5;241m=\u001b[39mlabel\n\u001b[0;32m    117\u001b[0m ):\n\u001b[0;32m    118\u001b[0m     logging\u001b[38;5;241m.\u001b[39minfo(\n\u001b[0;32m    119\u001b[0m         \u001b[38;5;124m\"\u001b[39m\u001b[38;5;124mRelation table \u001b[39m\u001b[38;5;132;01m%s\u001b[39;00m\u001b[38;5;124m from \u001b[39m\u001b[38;5;132;01m%s\u001b[39;00m\u001b[38;5;124m to \u001b[39m\u001b[38;5;132;01m%s\u001b[39;00m\u001b[38;5;124m does not exist in the database, creating\u001b[39m\u001b[38;5;124m\"\u001b[39m,\n\u001b[0;32m    120\u001b[0m         label,\n\u001b[0;32m    121\u001b[0m         from_class\u001b[38;5;241m.\u001b[39mget_label(),\n\u001b[0;32m    122\u001b[0m         to_class\u001b[38;5;241m.\u001b[39mget_label(),\n\u001b[0;32m    123\u001b[0m     )\n\u001b[1;32m--> 125\u001b[0m     \u001b[38;5;28;43mself\u001b[39;49m\u001b[38;5;241;43m.\u001b[39;49m\u001b[43m_execute_query\u001b[49m\u001b[43m(\u001b[49m\n\u001b[0;32m    126\u001b[0m \u001b[43m        \u001b[49m\u001b[38;5;124;43m\"\u001b[39;49m\u001b[38;5;124;43mCREATE REL TABLE \u001b[39;49m\u001b[38;5;132;43;01m{}\u001b[39;49;00m\u001b[38;5;124;43m (FROM \u001b[39;49m\u001b[38;5;132;43;01m{}\u001b[39;49;00m\u001b[38;5;124;43m TO \u001b[39;49m\u001b[38;5;132;43;01m{}\u001b[39;49;00m\u001b[38;5;124;43m)\u001b[39;49m\u001b[38;5;124;43m\"\u001b[39;49m\u001b[38;5;241;43m.\u001b[39;49m\u001b[43mformat\u001b[49m\u001b[43m(\u001b[49m\n\u001b[0;32m    127\u001b[0m \u001b[43m            \u001b[49m\u001b[43mlabel\u001b[49m\u001b[43m,\u001b[49m\u001b[43m \u001b[49m\u001b[43mfrom_class\u001b[49m\u001b[38;5;241;43m.\u001b[39;49m\u001b[43mget_label\u001b[49m\u001b[43m(\u001b[49m\u001b[43m)\u001b[49m\u001b[43m,\u001b[49m\u001b[43m \u001b[49m\u001b[43mto_class\u001b[49m\u001b[38;5;241;43m.\u001b[39;49m\u001b[43mget_label\u001b[49m\u001b[43m(\u001b[49m\u001b[43m)\u001b[49m\n\u001b[0;32m    128\u001b[0m \u001b[43m        \u001b[49m\u001b[43m)\u001b[49m\n\u001b[0;32m    129\u001b[0m \u001b[43m    \u001b[49m\u001b[43m)\u001b[49m\n",
      "File \u001b[1;32m~\\Dropbox\\Code\\motleycrew\\motleycrew\\storage\\kuzu_graph_store.py:52\u001b[0m, in \u001b[0;36mMotleyKuzuGraphStore._execute_query\u001b[1;34m(self, query, parameters)\u001b[0m\n\u001b[0;32m     49\u001b[0m     logging\u001b[38;5;241m.\u001b[39mdebug(\u001b[38;5;124m\"\u001b[39m\u001b[38;5;124mwith parameters: \u001b[39m\u001b[38;5;132;01m%s\u001b[39;00m\u001b[38;5;124m\"\u001b[39m, parameters)\n\u001b[0;32m     51\u001b[0m \u001b[38;5;66;03m# TODO: retries?\u001b[39;00m\n\u001b[1;32m---> 52\u001b[0m \u001b[38;5;28;01mreturn\u001b[39;00m \u001b[38;5;28;43mself\u001b[39;49m\u001b[38;5;241;43m.\u001b[39;49m\u001b[43mconnection\u001b[49m\u001b[38;5;241;43m.\u001b[39;49m\u001b[43mexecute\u001b[49m\u001b[43m(\u001b[49m\u001b[43mquery\u001b[49m\u001b[38;5;241;43m=\u001b[39;49m\u001b[43mquery\u001b[49m\u001b[43m,\u001b[49m\u001b[43m \u001b[49m\u001b[43mparameters\u001b[49m\u001b[38;5;241;43m=\u001b[39;49m\u001b[43mparameters\u001b[49m\u001b[43m)\u001b[49m\n",
      "File \u001b[1;32m~\\.conda\\envs\\crewai3.11\\Lib\\site-packages\\kuzu\\connection.py:131\u001b[0m, in \u001b[0;36mConnection.execute\u001b[1;34m(self, query, parameters)\u001b[0m\n\u001b[0;32m    128\u001b[0m     \u001b[38;5;28;01mraise\u001b[39;00m \u001b[38;5;167;01mRuntimeError\u001b[39;00m(msg)  \u001b[38;5;66;03m# noqa: TRY004\u001b[39;00m\n\u001b[0;32m    130\u001b[0m \u001b[38;5;28;01mif\u001b[39;00m \u001b[38;5;28mlen\u001b[39m(parameters) \u001b[38;5;241m==\u001b[39m \u001b[38;5;241m0\u001b[39m:\n\u001b[1;32m--> 131\u001b[0m     _query_result \u001b[38;5;241m=\u001b[39m \u001b[38;5;28;43mself\u001b[39;49m\u001b[38;5;241;43m.\u001b[39;49m\u001b[43m_connection\u001b[49m\u001b[38;5;241;43m.\u001b[39;49m\u001b[43mquery\u001b[49m\u001b[43m(\u001b[49m\u001b[43mquery\u001b[49m\u001b[43m)\u001b[49m\n\u001b[0;32m    132\u001b[0m \u001b[38;5;28;01melse\u001b[39;00m:\n\u001b[0;32m    133\u001b[0m     prepared_statement \u001b[38;5;241m=\u001b[39m \u001b[38;5;28mself\u001b[39m\u001b[38;5;241m.\u001b[39mprepare(query) \u001b[38;5;28;01mif\u001b[39;00m \u001b[38;5;28misinstance\u001b[39m(query, \u001b[38;5;28mstr\u001b[39m) \u001b[38;5;28;01melse\u001b[39;00m query\n",
      "\u001b[1;31mRuntimeError\u001b[0m: Binder exception: task_unit_belongs already exists in catalog."
     ]
    }
   ],
   "source": [
    "# And now run the recipes\n",
    "done_items = crew.run()"
   ]
  },
  {
   "cell_type": "code",
   "execution_count": null,
   "id": "67342fd5-c920-4456-a546-2ee362c44e7a",
   "metadata": {},
   "outputs": [],
   "source": [
    "final_answer = done_items[-1].question\n",
    "\n",
    "print(\"Question: \", final_answer.question)\n",
    "print(\"Answer: \", final_answer.answer)\n",
    "print(\"To explore the graph:\")\n",
    "print(f\"docker run -p 8000:8000  -v {DB_PATH}:/database --rm kuzudb/explorer:latest\")\n",
    "print(\"And in the kuzu explorer at http://localhost:8000 enter\")\n",
    "print(\"MATCH (A)-[r]->(B) RETURN *;\")"
   ]
  },
  {
   "cell_type": "markdown",
   "id": "f37462b9-0f8b-4a0b-8f6e-a1b50e652e19",
   "metadata": {},
   "source": [
    "![This is what you will see in Kuzu explorer](img/kuzu_explorer.png)"
   ]
  },
  {
   "cell_type": "code",
   "execution_count": null,
   "id": "1e1e2dd8-70fc-4dca-a2da-49ce4ba8da14",
   "metadata": {},
   "outputs": [],
   "source": []
  }
 ],
 "metadata": {
  "kernelspec": {
   "display_name": "Python [conda env:.conda-crewai3.11]",
   "language": "python",
   "name": "conda-env-.conda-crewai3.11-py"
  },
  "language_info": {
   "codemirror_mode": {
    "name": "ipython",
    "version": 3
   },
   "file_extension": ".py",
   "mimetype": "text/x-python",
   "name": "python",
   "nbconvert_exporter": "python",
   "pygments_lexer": "ipython3",
   "version": "3.11.7"
  }
 },
 "nbformat": 4,
 "nbformat_minor": 5
}
