{
 "cells": [
  {
   "cell_type": "markdown",
   "id": "0af01a23-58b5-4679-9e9c-89c74708fdab",
   "metadata": {},
   "source": [
    "# Multi-step research agent"
   ]
  },
  {
   "cell_type": "markdown",
   "id": "a0c34f4c-4398-441b-b435-5ec1dc77a282",
   "metadata": {},
   "source": [
    "The research agent is inspired by [this project](https://github.com/rahulnyk/research_agent) and [BabyAGI](https://github.com/yoheinakajima/babyagi/tree/main).\n",
    "\n",
    "The idea is as follows: we start with a research question and some source of data we can retrieve from. We retrieve the data relevant for the original question, but then instead of feeding it into the LLM prompt to answer the question, like a conventional RAG would do, we use it to ask an LLM what further questions, based on the retrieved context, would be most useful to answer the original question. We then pick one of these to do retrieval on, and by repeating that process, build a tree of questions, each with attached context, which we store as a knowledge graph.\n",
    "\n",
    "When we decide we've done this for long enough (currently just a constraint on the number of nodes), we then walk back up the graph, first answering the leaf questions, then using these answers (along with the context retrieved for their parent question) to answer the parent question, etc. "
   ]
  },
  {
   "cell_type": "code",
   "execution_count": 1,
   "id": "f98875ae-db68-4f1d-9c86-93a32633b19d",
   "metadata": {},
   "outputs": [],
   "source": [
    "from pathlib import Path\n",
    "import shutil\n",
    "import os, sys\n",
    "import platform\n",
    "\n",
    "import kuzu\n",
    "from dotenv import load_dotenv\n",
    "\n",
    "# This assumes you have a .env file in the examples folder, containing your OpenAI key\n",
    "load_dotenv()\n",
    "\n",
    "WORKING_DIR = Path(os.path.realpath(\".\"))\n",
    "\n",
    "\n",
    "try:\n",
    "    from motleycrew import MotleyCrew\n",
    "except ImportError:\n",
    "    # if we are running this from source\n",
    "    motleycrew_location = os.path.realpath(WORKING_DIR / \"..\")\n",
    "    sys.path.append(motleycrew_location)\n",
    "\n",
    "if \"Dropbox\" in WORKING_DIR.parts and platform.system() == \"Windows\":\n",
    "    # On Windows, kuzu has file locking issues with Dropbox\n",
    "    DB_PATH = os.path.realpath(os.path.expanduser(\"~\") + \"/Documents/research_db\")\n",
    "else:\n",
    "    DB_PATH = os.path.realpath(WORKING_DIR / \"research_db\")\n",
    "\n",
    "if os.path.isdir(DB_PATH):\n",
    "    shutil.rmtree(DB_PATH)\n",
    "\n",
    "from motleycrew import MotleyCrew\n",
    "from motleycrew.storage import MotleyKuzuGraphStore\n",
    "from motleycrew.common.utils import configure_logging\n",
    "from motleycrew.applications.research_agent.question_task import QuestionTask\n",
    "from motleycrew.applications.research_agent.answer_task import AnswerTask\n",
    "from motleycrew.tools.simple_retriever_tool import SimpleRetrieverTool\n",
    "\n",
    "configure_logging(verbose=True)"
   ]
  },
  {
   "cell_type": "code",
   "execution_count": 2,
   "id": "0f351a51-df42-4c12-8f14-a5fe94d4f145",
   "metadata": {},
   "outputs": [],
   "source": [
    "DATA_DIR = os.path.realpath(os.path.join(WORKING_DIR, \"mahabharata/text/TinyTales\"))\n",
    "PERSIST_DIR = WORKING_DIR / \"storage\""
   ]
  },
  {
   "cell_type": "code",
   "execution_count": 3,
   "id": "eac94541-2eb0-4e5a-9303-03ad924135e0",
   "metadata": {},
   "outputs": [
    {
     "name": "stdout",
     "output_type": "stream",
     "text": [
      "fatal: destination path 'mahabharata' already exists and is not an empty directory.\n"
     ]
    }
   ],
   "source": [
    "# Only run this the first time you run the notebook, to get the raw data\n",
    "!git clone https://github.com/rahulnyk/mahabharata.git"
   ]
  },
  {
   "cell_type": "code",
   "execution_count": 4,
   "id": "714bc24e-b28f-4d98-8fc9-6cdc54b7ced3",
   "metadata": {},
   "outputs": [
    {
     "name": "stderr",
     "output_type": "stream",
     "text": [
      "2024-05-25 16:18:36,853 - INFO - Node table MotleyGraphNode does not exist in the database, creating\n",
      "2024-05-25 16:18:36,860 - INFO - Relation table dummy from MotleyGraphNode to MotleyGraphNode does not exist in the database, creating\n"
     ]
    }
   ],
   "source": [
    "db = kuzu.Database(DB_PATH)\n",
    "graph_store = MotleyKuzuGraphStore(db)\n",
    "crew = MotleyCrew(graph_store=graph_store)"
   ]
  },
  {
   "cell_type": "code",
   "execution_count": 5,
   "id": "3432c972-8130-4095-b7a0-6d3affc216f8",
   "metadata": {},
   "outputs": [
    {
     "name": "stderr",
     "output_type": "stream",
     "text": [
      "2024-05-25 16:18:37,591 - INFO - Loading all indices.\n",
      "2024-05-25 16:18:37,708 - INFO - Node table TaskNode does not exist in the database, creating\n",
      "2024-05-25 16:18:37,710 - INFO - Property name not present in table for label TaskNode, creating\n",
      "2024-05-25 16:18:37,712 - INFO - Property done not present in table for label TaskNode, creating\n",
      "2024-05-25 16:18:37,714 - INFO - Node table QuestionGenerationTaskUnit does not exist in the database, creating\n",
      "2024-05-25 16:18:37,716 - INFO - Property status not present in table for label QuestionGenerationTaskUnit, creating\n",
      "2024-05-25 16:18:37,717 - INFO - Property output not present in table for label QuestionGenerationTaskUnit, creating\n",
      "2024-05-25 16:18:37,718 - WARNING - No known Cypher type matching annotation typing.Optional[typing.Any], will use JSON string\n",
      "2024-05-25 16:18:37,719 - INFO - Property question not present in table for label QuestionGenerationTaskUnit, creating\n",
      "2024-05-25 16:18:37,719 - WARNING - No known Cypher type matching annotation <class 'motleycrew.applications.research_agent.question.Question'>, will use JSON string\n",
      "2024-05-25 16:18:37,722 - INFO - Relation table QuestionGenerationTaskUnit_belongs from QuestionGenerationTaskUnit to TaskNode does not exist in the database, creating\n",
      "2024-05-25 16:18:37,723 - INFO - Inserting new node with label TaskNode: name='QuestionTask' done=False\n",
      "2024-05-25 16:18:37,727 - INFO - Node created OK\n",
      "2024-05-25 16:18:37,728 - INFO - Relation table task_is_upstream from TaskNode to TaskNode does not exist in the database, creating\n",
      "2024-05-25 16:18:37,731 - INFO - Node table Question does not exist in the database, creating\n",
      "2024-05-25 16:18:37,732 - INFO - Property question not present in table for label Question, creating\n",
      "2024-05-25 16:18:37,734 - INFO - Property answer not present in table for label Question, creating\n",
      "2024-05-25 16:18:37,735 - INFO - Property context not present in table for label Question, creating\n",
      "2024-05-25 16:18:37,735 - WARNING - No known Cypher type matching annotation typing.Optional[list[str]], will use JSON string\n",
      "2024-05-25 16:18:37,737 - INFO - Inserting new node with label Question: question='Why did Arjuna kill Karna, his half-brother?' answer=None context=None\n",
      "2024-05-25 16:18:37,738 - INFO - Node created OK\n",
      "2024-05-25 16:18:37,765 - INFO - Node table QuestionAnsweringTaskUnit does not exist in the database, creating\n",
      "2024-05-25 16:18:37,767 - INFO - Property status not present in table for label QuestionAnsweringTaskUnit, creating\n",
      "2024-05-25 16:18:37,769 - INFO - Property output not present in table for label QuestionAnsweringTaskUnit, creating\n",
      "2024-05-25 16:18:37,769 - WARNING - No known Cypher type matching annotation typing.Optional[typing.Any], will use JSON string\n",
      "2024-05-25 16:18:37,771 - INFO - Property question not present in table for label QuestionAnsweringTaskUnit, creating\n",
      "2024-05-25 16:18:37,771 - WARNING - No known Cypher type matching annotation <class 'motleycrew.applications.research_agent.question.Question'>, will use JSON string\n",
      "2024-05-25 16:18:37,773 - INFO - Relation table QuestionAnsweringTaskUnit_belongs from QuestionAnsweringTaskUnit to TaskNode does not exist in the database, creating\n",
      "2024-05-25 16:18:37,775 - INFO - Inserting new node with label TaskNode: name='AnswerTask' done=False\n",
      "2024-05-25 16:18:37,776 - INFO - Node created OK\n",
      "2024-05-25 16:18:37,796 - INFO - Creating relation task_is_upstream from TaskNode:0 to TaskNode:1\n",
      "2024-05-25 16:18:37,802 - INFO - Relation created OK\n"
     ]
    },
    {
     "data": {
      "text/plain": [
       "QuestionTask(name=QuestionTask, done=False)"
      ]
     },
     "execution_count": 5,
     "metadata": {},
     "output_type": "execute_result"
    }
   ],
   "source": [
    "QUESTION = \"Why did Arjuna kill Karna, his half-brother?\"\n",
    "MAX_ITER = 3\n",
    "ANSWER_LENGTH = 200\n",
    "\n",
    "query_tool = SimpleRetrieverTool(DATA_DIR, PERSIST_DIR, return_strings_only=True)\n",
    "\n",
    "# We need to pass the crew to the Tasks so they have access to the graph store\n",
    "# and the crew is aware of them\n",
    "\n",
    "# The question task is responsible for new question generation\n",
    "question_recipe = QuestionTask(\n",
    "    crew=crew, question=QUESTION, query_tool=query_tool, max_iter=MAX_ITER\n",
    ")\n",
    "\n",
    "# The answer task is responsible for rolling the answers up the tree\n",
    "answer_recipe = AnswerTask(answer_length=ANSWER_LENGTH, crew=crew)\n",
    "\n",
    "# Only kick off the answer task once the question task is done\n",
    "question_recipe >> answer_recipe"
   ]
  },
  {
   "cell_type": "code",
   "execution_count": 6,
   "id": "5e045362-5376-4198-83d2-0d380fb1e17f",
   "metadata": {
    "scrolled": true
   },
   "outputs": [
    {
     "name": "stderr",
     "output_type": "stream",
     "text": [
      "2024-05-25 16:18:37,813 - INFO - Available tasks: [QuestionTask(name=QuestionTask, done=False)]\n",
      "2024-05-25 16:18:37,814 - INFO - Processing task: QuestionTask(name=QuestionTask, done=False)\n",
      "2024-05-25 16:18:37,820 - INFO - Loaded unanswered questions: [Question(id=0, question=Why did Arjuna kill Karna, his half-brother?, answer=None, context=None)]\n",
      "2024-05-25 16:18:38,882 - INFO - HTTP Request: POST https://api.openai.com/v1/chat/completions \"HTTP/1.1 200 OK\"\n",
      "2024-05-25 16:18:38,890 - INFO - Most pertinent question according to the tool: question='Why did Arjuna kill Karna, his half-brother?' answer=None context=None\n",
      "2024-05-25 16:18:38,891 - INFO - Got a matching unit for task QuestionTask(name=QuestionTask, done=False)\n",
      "2024-05-25 16:18:38,891 - INFO - Processing task: TaskUnit(status=pending)\n",
      "2024-05-25 16:18:38,892 - INFO - Assigned unit TaskUnit(status=pending) to agent <motleycrew.applications.research_agent.question_generator.QuestionGeneratorTool object at 0x1345b7ec0>, dispatching\n",
      "2024-05-25 16:18:38,892 - INFO - Node TaskUnit(status=running) does not exist, creating\n",
      "2024-05-25 16:18:38,893 - INFO - Inserting new node with label QuestionGenerationTaskUnit: TaskUnit(status=running)\n",
      "2024-05-25 16:18:38,893 - WARNING - No known Cypher type matching annotation <class 'motleycrew.applications.research_agent.question.Question'>, will use JSON string\n",
      "2024-05-25 16:18:38,897 - INFO - Node created OK\n",
      "2024-05-25 16:18:38,902 - INFO - Relation from TaskUnit(status=running) to name='QuestionTask' done=False does not exist, creating\n",
      "2024-05-25 16:18:38,904 - INFO - Creating relation QuestionGenerationTaskUnit_belongs from QuestionGenerationTaskUnit:0 to TaskNode:0\n",
      "2024-05-25 16:18:38,908 - INFO - Relation created OK\n",
      "2024-05-25 16:18:39,521 - INFO - HTTP Request: POST https://api.openai.com/v1/embeddings \"HTTP/1.1 200 OK\"\n",
      "2024-05-25 16:18:42,171 - INFO - HTTP Request: POST https://api.openai.com/v1/chat/completions \"HTTP/1.1 200 OK\"\n",
      "2024-05-25 16:18:42,177 - INFO - Inserting question: What were the circumstances that led to Arjuna killing Karna during their duel?\n",
      "2024-05-25 16:18:42,179 - WARNING - No known Cypher type matching annotation typing.Optional[list[str]], will use JSON string\n",
      "2024-05-25 16:18:42,181 - INFO - Inserting new node with label Question: question='What were the circumstances that led to Arjuna killing Karna during their duel?' answer=None context=None\n",
      "2024-05-25 16:18:42,184 - INFO - Node created OK\n",
      "2024-05-25 16:18:42,187 - INFO - Relation table is_subquestion from Question to Question does not exist in the database, creating\n",
      "2024-05-25 16:18:42,189 - INFO - Creating relation is_subquestion from Question:0 to Question:1\n",
      "2024-05-25 16:18:42,194 - INFO - Relation created OK\n",
      "2024-05-25 16:18:42,194 - INFO - Inserting question: Why did Karna refuse to kill any Pandava other than Arjuna, despite having opportunities to do so?\n",
      "2024-05-25 16:18:42,195 - INFO - Inserting new node with label Question: question='Why did Karna refuse to kill any Pandava other than Arjuna, despite having opportunities to do so?' answer=None context=None\n",
      "2024-05-25 16:18:42,196 - INFO - Node created OK\n",
      "2024-05-25 16:18:42,199 - INFO - Creating relation is_subquestion from Question:0 to Question:2\n",
      "2024-05-25 16:18:42,201 - INFO - Relation created OK\n",
      "2024-05-25 16:18:42,201 - INFO - Inserting question: How did Krishna influence the outcome of the duel between Arjuna and Karna?\n",
      "2024-05-25 16:18:42,202 - INFO - Inserting new node with label Question: question='How did Krishna influence the outcome of the duel between Arjuna and Karna?' answer=None context=None\n",
      "2024-05-25 16:18:42,203 - INFO - Node created OK\n",
      "2024-05-25 16:18:42,206 - INFO - Creating relation is_subquestion from Question:0 to Question:3\n",
      "2024-05-25 16:18:42,208 - INFO - Relation created OK\n",
      "2024-05-25 16:18:42,209 - INFO - Inserted 3 questions\n",
      "2024-05-25 16:18:42,210 - WARNING - No known Cypher type matching annotation typing.Optional[typing.Any], will use JSON string\n",
      "2024-05-25 16:18:42,212 - INFO - Task unit TaskUnit(status=running) completed, marking as done\n",
      "2024-05-25 16:18:42,214 - INFO - ==== Completed iteration 1 of 3 ====\n",
      "2024-05-25 16:18:42,216 - INFO - Available tasks: [QuestionTask(name=QuestionTask, done=False)]\n",
      "2024-05-25 16:18:42,216 - INFO - Processing task: QuestionTask(name=QuestionTask, done=False)\n",
      "2024-05-25 16:18:42,218 - INFO - Loaded unanswered questions: [Question(id=1, question=What were the circumstances that led to Arjuna killing Karna during their duel?, answer=None, context=None), Question(id=2, question=Why did Karna refuse to kill any Pandava other than Arjuna, despite having opportunities to do so?, answer=None, context=None), Question(id=3, question=How did Krishna influence the outcome of the duel between Arjuna and Karna?, answer=None, context=None)]\n",
      "2024-05-25 16:18:42,922 - INFO - HTTP Request: POST https://api.openai.com/v1/chat/completions \"HTTP/1.1 200 OK\"\n",
      "2024-05-25 16:18:42,926 - INFO - Most pertinent question according to the tool: question='What were the circumstances that led to Arjuna killing Karna during their duel?' answer=None context=None\n",
      "2024-05-25 16:18:42,926 - INFO - Got a matching unit for task QuestionTask(name=QuestionTask, done=False)\n",
      "2024-05-25 16:18:42,927 - INFO - Processing task: TaskUnit(status=pending)\n",
      "2024-05-25 16:18:42,927 - INFO - Assigned unit TaskUnit(status=pending) to agent <motleycrew.applications.research_agent.question_generator.QuestionGeneratorTool object at 0x1345b7ec0>, dispatching\n",
      "2024-05-25 16:18:42,927 - INFO - Node TaskUnit(status=running) does not exist, creating\n",
      "2024-05-25 16:18:42,928 - INFO - Inserting new node with label QuestionGenerationTaskUnit: TaskUnit(status=running)\n",
      "2024-05-25 16:18:42,928 - WARNING - No known Cypher type matching annotation <class 'motleycrew.applications.research_agent.question.Question'>, will use JSON string\n",
      "2024-05-25 16:18:42,931 - INFO - Node created OK\n",
      "2024-05-25 16:18:42,937 - INFO - Relation from TaskUnit(status=running) to name='QuestionTask' done=False does not exist, creating\n",
      "2024-05-25 16:18:42,940 - INFO - Creating relation QuestionGenerationTaskUnit_belongs from QuestionGenerationTaskUnit:1 to TaskNode:0\n",
      "2024-05-25 16:18:42,944 - INFO - Relation created OK\n",
      "2024-05-25 16:18:43,288 - INFO - HTTP Request: POST https://api.openai.com/v1/embeddings \"HTTP/1.1 200 OK\"\n",
      "2024-05-25 16:18:46,037 - INFO - HTTP Request: POST https://api.openai.com/v1/chat/completions \"HTTP/1.1 200 OK\"\n",
      "2024-05-25 16:18:46,047 - INFO - Inserting question: What role did Krishna play in the duel between Arjuna and Karna, particularly in the incident involving the serpent-arrow?\n",
      "2024-05-25 16:18:46,048 - WARNING - No known Cypher type matching annotation typing.Optional[list[str]], will use JSON string\n",
      "2024-05-25 16:18:46,052 - INFO - Inserting new node with label Question: question='What role did Krishna play in the duel between Arjuna and Karna, particularly in the incident involving the serpent-arrow?' answer=None context=None\n",
      "2024-05-25 16:18:46,058 - INFO - Node created OK\n",
      "2024-05-25 16:18:46,064 - INFO - Creating relation is_subquestion from Question:1 to Question:4\n",
      "2024-05-25 16:18:46,067 - INFO - Relation created OK\n",
      "2024-05-25 16:18:46,068 - INFO - Inserting question: How did Karna's chariot getting stuck in the mud influence the outcome of his duel with Arjuna?\n",
      "2024-05-25 16:18:46,069 - INFO - Inserting new node with label Question: question=\"How did Karna's chariot getting stuck in the mud influence the outcome of his duel with Arjuna?\" answer=None context=None\n",
      "2024-05-25 16:18:46,072 - INFO - Node created OK\n",
      "2024-05-25 16:18:46,075 - INFO - Creating relation is_subquestion from Question:1 to Question:5\n",
      "2024-05-25 16:18:46,078 - INFO - Relation created OK\n",
      "2024-05-25 16:18:46,078 - INFO - Inserting question: What was the significance of Karna forgetting the mantra to launch the Brahmastra during his duel with Arjuna?\n",
      "2024-05-25 16:18:46,079 - INFO - Inserting new node with label Question: question='What was the significance of Karna forgetting the mantra to launch the Brahmastra during his duel with Arjuna?' answer=None context=None\n",
      "2024-05-25 16:18:46,081 - INFO - Node created OK\n",
      "2024-05-25 16:18:46,084 - INFO - Creating relation is_subquestion from Question:1 to Question:6\n",
      "2024-05-25 16:18:46,086 - INFO - Relation created OK\n",
      "2024-05-25 16:18:46,087 - INFO - Inserted 3 questions\n",
      "2024-05-25 16:18:46,089 - WARNING - No known Cypher type matching annotation typing.Optional[typing.Any], will use JSON string\n",
      "2024-05-25 16:18:46,090 - INFO - Task unit TaskUnit(status=running) completed, marking as done\n",
      "2024-05-25 16:18:46,093 - INFO - ==== Completed iteration 2 of 3 ====\n",
      "2024-05-25 16:18:46,095 - INFO - Available tasks: [QuestionTask(name=QuestionTask, done=False)]\n",
      "2024-05-25 16:18:46,095 - INFO - Processing task: QuestionTask(name=QuestionTask, done=False)\n",
      "2024-05-25 16:18:46,098 - INFO - Loaded unanswered questions: [Question(id=2, question=Why did Karna refuse to kill any Pandava other than Arjuna, despite having opportunities to do so?, answer=None, context=None), Question(id=3, question=How did Krishna influence the outcome of the duel between Arjuna and Karna?, answer=None, context=None), Question(id=4, question=What role did Krishna play in the duel between Arjuna and Karna, particularly in the incident involving the serpent-arrow?, answer=None, context=None), Question(id=5, question=How did Karna's chariot getting stuck in the mud influence the outcome of his duel with Arjuna?, answer=None, context=None), Question(id=6, question=What was the significance of Karna forgetting the mantra to launch the Brahmastra during his duel with Arjuna?, answer=None, context=None)]\n",
      "2024-05-25 16:18:47,016 - INFO - HTTP Request: POST https://api.openai.com/v1/chat/completions \"HTTP/1.1 200 OK\"\n",
      "2024-05-25 16:18:47,021 - INFO - Most pertinent question according to the tool: question=\"How did Karna's chariot getting stuck in the mud influence the outcome of his duel with Arjuna?\" answer=None context=None\n",
      "2024-05-25 16:18:47,022 - INFO - Got a matching unit for task QuestionTask(name=QuestionTask, done=False)\n",
      "2024-05-25 16:18:47,022 - INFO - Processing task: TaskUnit(status=pending)\n",
      "2024-05-25 16:18:47,023 - INFO - Assigned unit TaskUnit(status=pending) to agent <motleycrew.applications.research_agent.question_generator.QuestionGeneratorTool object at 0x1345b7ec0>, dispatching\n",
      "2024-05-25 16:18:47,023 - INFO - Node TaskUnit(status=running) does not exist, creating\n",
      "2024-05-25 16:18:47,025 - INFO - Inserting new node with label QuestionGenerationTaskUnit: TaskUnit(status=running)\n",
      "2024-05-25 16:18:47,025 - WARNING - No known Cypher type matching annotation <class 'motleycrew.applications.research_agent.question.Question'>, will use JSON string\n",
      "2024-05-25 16:18:47,029 - INFO - Node created OK\n",
      "2024-05-25 16:18:47,037 - INFO - Relation from TaskUnit(status=running) to name='QuestionTask' done=False does not exist, creating\n",
      "2024-05-25 16:18:47,042 - INFO - Creating relation QuestionGenerationTaskUnit_belongs from QuestionGenerationTaskUnit:2 to TaskNode:0\n",
      "2024-05-25 16:18:47,045 - INFO - Relation created OK\n",
      "2024-05-25 16:18:47,359 - INFO - HTTP Request: POST https://api.openai.com/v1/embeddings \"HTTP/1.1 200 OK\"\n",
      "2024-05-25 16:18:51,951 - INFO - HTTP Request: POST https://api.openai.com/v1/chat/completions \"HTTP/1.1 200 OK\"\n",
      "2024-05-25 16:18:51,960 - INFO - Inserting question: 1. What role did Krishna play in influencing the outcome of Karna's duel with Arjuna when Karna's chariot got stuck?\n",
      "2024-05-25 16:18:51,962 - WARNING - No known Cypher type matching annotation typing.Optional[list[str]], will use JSON string\n",
      "2024-05-25 16:18:51,962 - INFO - Inserting new node with label Question: question=\"1. What role did Krishna play in influencing the outcome of Karna's duel with Arjuna when Karna's chariot got stuck?\" answer=None context=None\n",
      "2024-05-25 16:18:51,968 - INFO - Node created OK\n",
      "2024-05-25 16:18:51,973 - INFO - Creating relation is_subquestion from Question:5 to Question:7\n",
      "2024-05-25 16:18:51,976 - INFO - Relation created OK\n",
      "2024-05-25 16:18:51,976 - INFO - Inserting question: 2. How did the curses on Karna affect his performance and fate in the duel against Arjuna?\n",
      "2024-05-25 16:18:51,977 - INFO - Inserting new node with label Question: question='2. How did the curses on Karna affect his performance and fate in the duel against Arjuna?' answer=None context=None\n",
      "2024-05-25 16:18:51,979 - INFO - Node created OK\n",
      "2024-05-25 16:18:51,982 - INFO - Creating relation is_subquestion from Question:5 to Question:8\n",
      "2024-05-25 16:18:51,985 - INFO - Relation created OK\n",
      "2024-05-25 16:18:51,985 - INFO - Inserting question: 3. What was the significance of Karna forgetting the mantra to launch the Brahmastra during his duel with Arjuna?\n",
      "2024-05-25 16:18:51,986 - INFO - Inserting new node with label Question: question='3. What was the significance of Karna forgetting the mantra to launch the Brahmastra during his duel with Arjuna?' answer=None context=None\n",
      "2024-05-25 16:18:51,989 - INFO - Node created OK\n",
      "2024-05-25 16:18:51,992 - INFO - Creating relation is_subquestion from Question:5 to Question:9\n",
      "2024-05-25 16:18:51,994 - INFO - Relation created OK\n",
      "2024-05-25 16:18:51,994 - INFO - Inserted 3 questions\n",
      "2024-05-25 16:18:51,995 - WARNING - No known Cypher type matching annotation typing.Optional[typing.Any], will use JSON string\n",
      "2024-05-25 16:18:51,997 - INFO - Task unit TaskUnit(status=running) completed, marking as done\n",
      "2024-05-25 16:18:51,999 - INFO - ==== Completed iteration 3 of 3 ====\n",
      "2024-05-25 16:18:52,002 - INFO - Available tasks: [AnswerTask(name=AnswerTask, done=False)]\n",
      "2024-05-25 16:18:52,003 - INFO - Processing task: AnswerTask(name=AnswerTask, done=False)\n",
      "2024-05-25 16:18:52,009 - INFO - Available questions: [Question(id=5, question=How did Karna's chariot getting stuck in the mud influence the outcome of his duel with Arjuna?, answer=None, context=[\"Then Karna's chariot got stuck...])]\n",
      "2024-05-25 16:18:52,009 - INFO - Got a matching unit for task AnswerTask(name=AnswerTask, done=False)\n",
      "2024-05-25 16:18:52,010 - INFO - Processing task: TaskUnit(status=pending)\n",
      "2024-05-25 16:18:52,010 - INFO - Assigned unit TaskUnit(status=pending) to agent <motleycrew.applications.research_agent.question_answerer.AnswerSubQuestionTool object at 0x1348bd640>, dispatching\n",
      "2024-05-25 16:18:52,010 - INFO - Node TaskUnit(status=running) does not exist, creating\n",
      "2024-05-25 16:18:52,011 - INFO - Inserting new node with label QuestionAnsweringTaskUnit: TaskUnit(status=running)\n",
      "2024-05-25 16:18:52,011 - WARNING - No known Cypher type matching annotation <class 'motleycrew.applications.research_agent.question.Question'>, will use JSON string\n",
      "2024-05-25 16:18:52,013 - INFO - Node created OK\n",
      "2024-05-25 16:18:52,017 - INFO - Relation from TaskUnit(status=running) to name='AnswerTask' done=False does not exist, creating\n",
      "2024-05-25 16:18:52,019 - INFO - Creating relation QuestionAnsweringTaskUnit_belongs from QuestionAnsweringTaskUnit:0 to TaskNode:1\n",
      "2024-05-25 16:18:52,022 - INFO - Relation created OK\n",
      "2024-05-25 16:19:06,372 - INFO - HTTP Request: POST https://api.openai.com/v1/chat/completions \"HTTP/1.1 200 OK\"\n",
      "2024-05-25 16:19:06,390 - WARNING - No known Cypher type matching annotation typing.Optional[typing.Any], will use JSON string\n",
      "2024-05-25 16:19:06,394 - INFO - Task unit TaskUnit(status=running) completed, marking as done\n",
      "2024-05-25 16:19:06,401 - INFO - Available tasks: [AnswerTask(name=AnswerTask, done=False)]\n",
      "2024-05-25 16:19:06,401 - INFO - Processing task: AnswerTask(name=AnswerTask, done=False)\n",
      "2024-05-25 16:19:06,405 - INFO - Available questions: [Question(id=1, question=What were the circumstances that led to Arjuna killing Karna during their duel?, answer=None, context=[\"~ 158. Karna Duels with Arjuna...])]\n",
      "2024-05-25 16:19:06,405 - INFO - Got a matching unit for task AnswerTask(name=AnswerTask, done=False)\n",
      "2024-05-25 16:19:06,405 - INFO - Processing task: TaskUnit(status=pending)\n",
      "2024-05-25 16:19:06,405 - INFO - Assigned unit TaskUnit(status=pending) to agent <motleycrew.applications.research_agent.question_answerer.AnswerSubQuestionTool object at 0x1348bd640>, dispatching\n",
      "2024-05-25 16:19:06,406 - INFO - Node TaskUnit(status=running) does not exist, creating\n",
      "2024-05-25 16:19:06,407 - INFO - Inserting new node with label QuestionAnsweringTaskUnit: TaskUnit(status=running)\n",
      "2024-05-25 16:19:06,407 - WARNING - No known Cypher type matching annotation <class 'motleycrew.applications.research_agent.question.Question'>, will use JSON string\n",
      "2024-05-25 16:19:06,409 - INFO - Node created OK\n",
      "2024-05-25 16:19:06,414 - INFO - Relation from TaskUnit(status=running) to name='AnswerTask' done=False does not exist, creating\n",
      "2024-05-25 16:19:06,417 - INFO - Creating relation QuestionAnsweringTaskUnit_belongs from QuestionAnsweringTaskUnit:1 to TaskNode:1\n",
      "2024-05-25 16:19:06,419 - INFO - Relation created OK\n",
      "2024-05-25 16:19:17,923 - INFO - HTTP Request: POST https://api.openai.com/v1/chat/completions \"HTTP/1.1 200 OK\"\n",
      "2024-05-25 16:19:17,939 - WARNING - No known Cypher type matching annotation typing.Optional[typing.Any], will use JSON string\n",
      "2024-05-25 16:19:17,942 - INFO - Task unit TaskUnit(status=running) completed, marking as done\n",
      "2024-05-25 16:19:17,950 - INFO - Available tasks: [AnswerTask(name=AnswerTask, done=False)]\n",
      "2024-05-25 16:19:17,950 - INFO - Processing task: AnswerTask(name=AnswerTask, done=False)\n",
      "2024-05-25 16:19:17,953 - INFO - Available questions: [Question(id=0, question=Why did Arjuna kill Karna, his half-brother?, answer=None, context=[\"That way, when this war is ove...])]\n",
      "2024-05-25 16:19:17,954 - INFO - Got a matching unit for task AnswerTask(name=AnswerTask, done=False)\n",
      "2024-05-25 16:19:17,954 - INFO - Processing task: TaskUnit(status=pending)\n",
      "2024-05-25 16:19:17,955 - INFO - Assigned unit TaskUnit(status=pending) to agent <motleycrew.applications.research_agent.question_answerer.AnswerSubQuestionTool object at 0x1348bd640>, dispatching\n",
      "2024-05-25 16:19:17,955 - INFO - Node TaskUnit(status=running) does not exist, creating\n",
      "2024-05-25 16:19:17,956 - INFO - Inserting new node with label QuestionAnsweringTaskUnit: TaskUnit(status=running)\n",
      "2024-05-25 16:19:17,957 - WARNING - No known Cypher type matching annotation <class 'motleycrew.applications.research_agent.question.Question'>, will use JSON string\n",
      "2024-05-25 16:19:17,959 - INFO - Node created OK\n",
      "2024-05-25 16:19:17,965 - INFO - Relation from TaskUnit(status=running) to name='AnswerTask' done=False does not exist, creating\n",
      "2024-05-25 16:19:17,968 - INFO - Creating relation QuestionAnsweringTaskUnit_belongs from QuestionAnsweringTaskUnit:2 to TaskNode:1\n",
      "2024-05-25 16:19:17,970 - INFO - Relation created OK\n",
      "2024-05-25 16:19:25,654 - INFO - HTTP Request: POST https://api.openai.com/v1/chat/completions \"HTTP/1.1 200 OK\"\n",
      "2024-05-25 16:19:25,667 - WARNING - No known Cypher type matching annotation typing.Optional[typing.Any], will use JSON string\n",
      "2024-05-25 16:19:25,670 - INFO - Task unit TaskUnit(status=running) completed, marking as done\n",
      "2024-05-25 16:19:25,677 - INFO - Available tasks: [AnswerTask(name=AnswerTask, done=False)]\n",
      "2024-05-25 16:19:25,678 - INFO - Processing task: AnswerTask(name=AnswerTask, done=False)\n",
      "2024-05-25 16:19:25,680 - INFO - Available questions: []\n",
      "2024-05-25 16:19:25,681 - INFO - Got no matching units for task AnswerTask(name=AnswerTask, done=False)\n",
      "2024-05-25 16:19:25,681 - INFO - Nothing left to do, exiting\n"
     ]
    }
   ],
   "source": [
    "# And now run the recipes\n",
    "done_items = crew.run()"
   ]
  },
  {
   "cell_type": "code",
   "execution_count": 7,
   "id": "67342fd5-c920-4456-a546-2ee362c44e7a",
   "metadata": {},
   "outputs": [
    {
     "name": "stdout",
     "output_type": "stream",
     "text": [
      "Question:  Why did Arjuna kill Karna, his half-brother?\n",
      "Answer:  Arjuna killed Karna during their intense duel in the Kurukshetra war, a pivotal and tragic moment driven by a combination of strategy, fate, and divine intervention. As the duel progressed, Karna faced a critical disadvantage when his chariot wheel got stuck in the mud. Despite his plea for a pause based on the warrior code, Krishna pointed out Karna's past dishonorable actions, undermining his request for fairness. At this vulnerable moment, Karna, unable to use his celestial weapon due to a curse that caused him to forget the necessary invocation, was defenseless. Krishna seized this opportunity to instruct Arjuna to take action. Despite Arjuna's initial hesitation to strike an unarmed opponent, he followed Krishna's guidance. Arjuna's arrow fatally wounded Karna, leading to his death. This act was not just a tactical move in the war but was also influenced by the overarching narrative of destiny and moral conflict, where past actions and divine will played significant roles in determining the outcome of the duel.\n",
      "To explore the graph:\n",
      "docker run -p 8000:8000  -v /Users/whimo/motleycrew/examples/research_db:/database --rm kuzudb/explorer:latest\n",
      "And in the kuzu explorer at http://localhost:8000 enter\n",
      "MATCH (A)-[r]->(B) RETURN *;\n"
     ]
    }
   ],
   "source": [
    "final_answer = done_items[-1].question\n",
    "\n",
    "print(\"Question: \", final_answer.question)\n",
    "print(\"Answer: \", final_answer.answer)\n",
    "print(\"To explore the graph:\")\n",
    "print(f\"docker run -p 8000:8000  -v {DB_PATH}:/database --rm kuzudb/explorer:latest\")\n",
    "print(\"And in the kuzu explorer at http://localhost:8000 enter\")\n",
    "print(\"MATCH (A)-[r]->(B) RETURN *;\")"
   ]
  },
  {
   "cell_type": "markdown",
   "id": "f37462b9-0f8b-4a0b-8f6e-a1b50e652e19",
   "metadata": {},
   "source": [
    "![This is what you will see in Kuzu explorer](img/kuzu_explorer.png)"
   ]
  },
  {
   "cell_type": "code",
   "execution_count": null,
   "id": "1e1e2dd8-70fc-4dca-a2da-49ce4ba8da14",
   "metadata": {},
   "outputs": [],
   "source": []
  }
 ],
 "metadata": {
  "kernelspec": {
   "display_name": "Python [conda env:.conda-crewai3.11]",
   "language": "python",
   "name": "conda-env-.conda-crewai3.11-py"
  },
  "language_info": {
   "codemirror_mode": {
    "name": "ipython",
    "version": 3
   },
   "file_extension": ".py",
   "mimetype": "text/x-python",
   "name": "python",
   "nbconvert_exporter": "python",
   "pygments_lexer": "ipython3",
   "version": "3.11.7"
  }
 },
 "nbformat": 4,
 "nbformat_minor": 5
}
