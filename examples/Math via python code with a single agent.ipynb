{
 "cells": [
  {
   "cell_type": "markdown",
   "id": "957999a7-2c5d-439d-b536-2763a1b6e50e",
   "metadata": {},
   "source": [
    "# Math via python code with a single agent"
   ]
  },
  {
   "cell_type": "code",
   "execution_count": null,
   "id": "e3ecb66a-0f89-41ad-8485-4fd5e72b62bf",
   "metadata": {},
   "outputs": [],
   "source": []
  }
 ],
 "metadata": {
  "kernelspec": {
   "display_name": "Python [conda env:.conda-crewai3.11]",
   "language": "python",
   "name": "conda-env-.conda-crewai3.11-py"
  },
  "language_info": {
   "codemirror_mode": {
    "name": "ipython",
    "version": 3
   },
   "file_extension": ".py",
   "mimetype": "text/x-python",
   "name": "python",
   "nbconvert_exporter": "python",
   "pygments_lexer": "ipython3",
   "version": "3.11.7"
  }
 },
 "nbformat": 4,
 "nbformat_minor": 5
}
