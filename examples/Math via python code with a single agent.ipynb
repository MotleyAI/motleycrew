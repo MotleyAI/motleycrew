{
 "cells": [
  {
   "cell_type": "markdown",
   "id": "957999a7-2c5d-439d-b536-2763a1b6e50e",
   "metadata": {},
   "source": [
    "# Math via python code with a single agent"
   ]
  },
  {
   "cell_type": "markdown",
   "id": "6b3d1d80-1ec3-4cb6-85a2-cd3330595860",
   "metadata": {},
   "source": [
    "The point of this example is to illustrate that for agents that have an AgentExecutor (which most frameworks have apart from Autogen), the approach from [MathChat](https://microsoft.github.io/autogen/blog/2023/06/28/MathChat/) can be done with a single agent, as the second conversation partner there just plays the role of an AgentExecutor."
   ]
  },
  {
   "cell_type": "code",
   "execution_count": 1,
   "id": "da4bec88",
   "metadata": {},
   "outputs": [
    {
     "name": "stdout",
     "output_type": "stream",
     "text": [
      "Requirement already satisfied: sympy in /Users/whimo/motleycrew/.venv/lib/python3.11/site-packages (1.14.0)\n",
      "Requirement already satisfied: mpmath<1.4,>=1.1.0 in /Users/whimo/motleycrew/.venv/lib/python3.11/site-packages (from sympy) (1.3.0)\n",
      "\n",
      "\u001b[1m[\u001b[0m\u001b[34;49mnotice\u001b[0m\u001b[1;39;49m]\u001b[0m\u001b[39;49m A new release of pip is available: \u001b[0m\u001b[31;49m24.3.1\u001b[0m\u001b[39;49m -> \u001b[0m\u001b[32;49m25.1.1\u001b[0m\n",
      "\u001b[1m[\u001b[0m\u001b[34;49mnotice\u001b[0m\u001b[1;39;49m]\u001b[0m\u001b[39;49m To update, run: \u001b[0m\u001b[32;49mpip install --upgrade pip\u001b[0m\n",
      "Note: you may need to restart the kernel to use updated packages.\n"
     ]
    }
   ],
   "source": [
    "%pip install sympy  # install sympy for the example"
   ]
  },
  {
   "cell_type": "code",
   "execution_count": 2,
   "id": "51527a55-d470-4509-9930-01466e3f78f3",
   "metadata": {},
   "outputs": [
    {
     "data": {
      "text/plain": [
       "True"
      ]
     },
     "execution_count": 2,
     "metadata": {},
     "output_type": "execute_result"
    }
   ],
   "source": [
    "import os, sys\n",
    "from pathlib import Path\n",
    "from dotenv import load_dotenv\n",
    "\n",
    "WORKING_DIR = Path(os.path.realpath(\".\"))\n",
    "\n",
    "\n",
    "try:\n",
    "    from motleycrew import MotleyCrew\n",
    "except ImportError:\n",
    "    # if we are running this from source\n",
    "    motleycrew_location = os.path.realpath( \"..\")\n",
    "    sys.path.append(motleycrew_location)\n",
    "\n",
    "from motleycrew import MotleyCrew\n",
    "from motleycrew.agents.langchain import ReActToolCallingMotleyAgent\n",
    "from motleycrew.tools.code import PythonREPLTool\n",
    "from motleycrew.common import configure_logging\n",
    "from motleycrew.tasks import SimpleTask\n",
    "\n",
    "configure_logging(verbose=True)\n",
    "load_dotenv()"
   ]
  },
  {
   "cell_type": "code",
   "execution_count": 3,
   "id": "9f527af7-a6ad-4259-88a2-43c8dacdb8ea",
   "metadata": {},
   "outputs": [
    {
     "name": "stderr",
     "output_type": "stream",
     "text": [
      "2025-07-30 20:00:05,275 - motleycrew.tools.code.python_repl - WARNING - Python REPL can execute arbitrary code from LLMs. Only use with trusted models and in secure environments. Consider using sandboxing or code review for production systems.\n",
      "2025-07-30 20:00:06,745 - motleycrew - INFO - No db_path provided, creating temporary directory for database\n",
      "2025-07-30 20:00:06,746 - motleycrew - INFO - Using Kuzu graph store with path: /var/folders/fv/tyhll76x0fn6l7j_q2nhvyg00000gn/T/tmpwkgrr68y/kuzu_db\n",
      "2025-07-30 20:00:06,786 - motleycrew - INFO - Node table TaskNode does not exist in the database, creating\n",
      "2025-07-30 20:00:06,804 - motleycrew - INFO - Property name not present in table for label TaskNode, creating\n",
      "2025-07-30 20:00:06,806 - motleycrew - INFO - Property done not present in table for label TaskNode, creating\n",
      "2025-07-30 20:00:06,808 - motleycrew - INFO - Node table SimpleTaskUnit does not exist in the database, creating\n",
      "2025-07-30 20:00:06,810 - motleycrew - INFO - Property status not present in table for label SimpleTaskUnit, creating\n",
      "2025-07-30 20:00:06,811 - motleycrew - INFO - Property output not present in table for label SimpleTaskUnit, creating\n",
      "2025-07-30 20:00:06,812 - motleycrew - INFO - No known Cypher type matching annotation typing.Optional[typing.Any], will use JSON string\n",
      "2025-07-30 20:00:06,813 - motleycrew - INFO - Property name not present in table for label SimpleTaskUnit, creating\n",
      "2025-07-30 20:00:06,814 - motleycrew - INFO - Property prompt not present in table for label SimpleTaskUnit, creating\n",
      "2025-07-30 20:00:06,815 - motleycrew - INFO - Property additional_params not present in table for label SimpleTaskUnit, creating\n",
      "2025-07-30 20:00:06,815 - motleycrew - INFO - No known Cypher type matching annotation typing.Optional[dict[str, typing.Any]], will use JSON string\n",
      "2025-07-30 20:00:06,817 - motleycrew - INFO - Relation table SimpleTaskUnit_belongs from SimpleTaskUnit to TaskNode does not exist in the database, creating\n",
      "2025-07-30 20:00:06,820 - motleycrew - INFO - Inserting new node with label TaskNode: name='solve math problem' done=False\n",
      "2025-07-30 20:00:06,830 - motleycrew - INFO - Node created OK\n",
      "2025-07-30 20:00:06,832 - motleycrew - INFO - Relation table task_is_upstream from TaskNode to TaskNode does not exist in the database, creating\n",
      "2025-07-30 20:00:06,864 - motleycrew - INFO - Available tasks: [SimpleTask(name=solve math problem, done=False)]\n",
      "2025-07-30 20:00:06,867 - motleycrew - INFO - Processing task: SimpleTask(name=solve math problem, done=False)\n",
      "2025-07-30 20:00:06,876 - motleycrew - INFO - Got a matching unit for task SimpleTask(name=solve math problem, done=False)\n",
      "2025-07-30 20:00:06,877 - motleycrew - INFO - Processing unit: TaskUnit(status=pending)\n",
      "2025-07-30 20:00:06,878 - motleycrew - INFO - Assigned unit TaskUnit(status=pending) to agent ReActToolCallingMotleyAgent(name=None), dispatching\n",
      "2025-07-30 20:00:06,878 - motleycrew - INFO - Node TaskUnit(status=running) does not exist, creating\n",
      "2025-07-30 20:00:06,880 - motleycrew - INFO - Inserting new node with label SimpleTaskUnit: TaskUnit(status=running)\n",
      "2025-07-30 20:00:06,881 - motleycrew - INFO - No known Cypher type matching annotation typing.Optional[typing.Any], will use JSON string\n",
      "2025-07-30 20:00:06,882 - motleycrew - INFO - No known Cypher type matching annotation typing.Optional[dict[str, typing.Any]], will use JSON string\n",
      "2025-07-30 20:00:06,884 - motleycrew - INFO - Node created OK\n",
      "2025-07-30 20:00:06,895 - motleycrew - INFO - Relation from TaskUnit(status=running) to name='solve math problem' done=False does not exist, creating\n",
      "2025-07-30 20:00:06,900 - motleycrew - INFO - Creating relation SimpleTaskUnit_belongs from SimpleTaskUnit:0 to TaskNode:0\n",
      "2025-07-30 20:00:06,906 - motleycrew - INFO - Relation created OK\n",
      "2025-07-30 20:00:06,914 - motleycrew - INFO - Wrapping agent in RunnableWithMessageHistory\n"
     ]
    },
    {
     "name": "stdout",
     "output_type": "stream",
     "text": [
      "\n",
      "\n",
      "\u001b[1m> Entering new AgentExecutor chain...\u001b[0m\n"
     ]
    },
    {
     "name": "stderr",
     "output_type": "stream",
     "text": [
      "2025-07-30 20:00:12,001 - motleycrew - INFO - Reflecting exception in tool python_repl: MissingPrintStatementError: Command must contain at least one print statement. Remember to print the results you want to see using print(...).\n"
     ]
    },
    {
     "name": "stdout",
     "output_type": "stream",
     "text": [
      "\u001b[32;1m\u001b[1;3m\n",
      "Invoking: `python_repl` with `{'command': \"from sympy import symbols, Eq, solve\\n\\n# Define the variables\\nx, y = symbols('x y')\\n\\n# Define the equations\\neq1 = Eq(725*x + 727*y, 1500)\\neq2 = Eq(729*x + 731*y, 1508)\\n\\n# Solve the system of equations\\nsolution = solve((eq1, eq2), (x, y))\\n\\n# Calculate x - y\\nx_minus_y = solution[x] - solution[y]\\n\\nsolution, x_minus_y\"}`\n",
      "responded: Thought: To solve the system of linear equations given by \\( 725x + 727y = 1500 \\) and \\( 729x + 731y = 1508 \\), we can use sympy to find the values of \\( x \\) and \\( y \\). Once we have these values, we can also calculate \\( x - y \\). Let's use sympy to solve this system of equations.\n",
      "\n",
      "I will write the code to solve these equations using sympy and execute it to find the values of \\( x \\), \\( y \\), and \\( x - y \\).\n",
      "\n",
      "\u001b[0m\u001b[36;1m\u001b[1;3mMissingPrintStatementError: Command must contain at least one print statement. Remember to print the results you want to see using print(...).\u001b[0m\u001b[32;1m\u001b[1;3m\n",
      "Invoking: `python_repl` with `{'command': \"from sympy import symbols, Eq, solve\\n\\n# Define the variables\\nx, y = symbols('x y')\\n\\n# Define the equations\\neq1 = Eq(725*x + 727*y, 1500)\\neq2 = Eq(729*x + 731*y, 1508)\\n\\n# Solve the system of equations\\nsolution = solve((eq1, eq2), (x, y))\\n\\n# Calculate x - y\\nx_minus_y = solution[x] - solution[y]\\n\\nprint('Solution:', solution)\\nprint('x - y:', x_minus_y)\"}`\n",
      "responded: Thought: I need to add a print statement to display the results of the solution and the value of \\( x - y \\). I will modify the code to include print statements for these values.\n",
      "\n",
      "\u001b[0m\u001b[36;1m\u001b[1;3mSolution: {x: -23, y: 25}\n",
      "x - y: -48\n",
      "\u001b[0m"
     ]
    },
    {
     "name": "stderr",
     "output_type": "stream",
     "text": [
      "2025-07-30 20:00:21,691 - motleycrew - INFO - No known Cypher type matching annotation typing.Optional[typing.Any], will use JSON string\n",
      "2025-07-30 20:00:21,696 - motleycrew - INFO - Task unit TaskUnit(status=running) completed, marking as done\n",
      "2025-07-30 20:00:21,701 - motleycrew - INFO - Available tasks: []\n",
      "2025-07-30 20:00:21,703 - motleycrew - INFO - Nothing left to do, exiting\n"
     ]
    },
    {
     "name": "stdout",
     "output_type": "stream",
     "text": [
      "\u001b[32;1m\u001b[1;3mFinal Answer: \n",
      "To solve the system of equations:\n",
      "\n",
      "\\[\n",
      "\\begin{align*}\n",
      "725x + 727y &= 1500 \\\\\n",
      "729x + 731y &= 1508\n",
      "\\end{align*}\n",
      "\\]\n",
      "\n",
      "we find the values of \\( x \\) and \\( y \\) to be:\n",
      "\n",
      "\\[\n",
      "x = -23, \\quad y = 25\n",
      "\\]\n",
      "\n",
      "Thus, the value of \\( x - y \\) is:\n",
      "\n",
      "\\[\n",
      "x - y = -23 - 25 = -48\n",
      "\\]\n",
      "\n",
      "Therefore, the solution is:\n",
      "\n",
      "\\[\n",
      "x = -23, \\quad y = 25, \\quad x - y = -48\n",
      "\\]\u001b[0m\n",
      "\n",
      "\u001b[1m> Finished chain.\u001b[0m\n"
     ]
    },
    {
     "data": {
      "text/plain": [
       "'Final Answer: \\nTo solve the system of equations:\\n\\n\\\\[\\n\\\\begin{align*}\\n725x + 727y &= 1500 \\\\\\\\\\n729x + 731y &= 1508\\n\\\\end{align*}\\n\\\\]\\n\\nwe find the values of \\\\( x \\\\) and \\\\( y \\\\) to be:\\n\\n\\\\[\\nx = -23, \\\\quad y = 25\\n\\\\]\\n\\nThus, the value of \\\\( x - y \\\\) is:\\n\\n\\\\[\\nx - y = -23 - 25 = -48\\n\\\\]\\n\\nTherefore, the solution is:\\n\\n\\\\[\\nx = -23, \\\\quad y = 25, \\\\quad x - y = -48\\n\\\\]'"
      ]
     },
     "metadata": {},
     "output_type": "display_data"
    }
   ],
   "source": [
    "\"\"\"Main function of running the example.\"\"\"\n",
    "\n",
    "repl_tool = PythonREPLTool()\n",
    "\n",
    "# Define your agents with roles and goals\n",
    "solver = ReActToolCallingMotleyAgent(\n",
    "    prompt=\"\"\"You are a high school math teacher with a passion for problem-solving.\n",
    "To solve a math problem, you first reason about it, step by step, then generate the code to solve it exactly,\n",
    "using sympy, then use the REPL tool to evaluate that code, and then\n",
    "use the output to generate a human-readable solution in LaTeX format.\n",
    "Don't use dashes to indicate bullet points, don't output any backticks, just the LaTeX\n",
    "\n",
    "{prompt}\"\"\",  # The {prompt} placeholder is where the task-specific prompt will go\n",
    "    verbose=True,\n",
    "    tools=[repl_tool],\n",
    ")\n",
    "\n",
    "problems = [\n",
    "    \"If $725x + 727y = 1500$ and $729x+ 731y = 1508$, \"\n",
    "    \"what are the values of $x$, $y$, and $x - y$ ?\",\n",
    "]\n",
    "\n",
    "# Create tasks for your agents\n",
    "crew = MotleyCrew()\n",
    "task = SimpleTask(\n",
    "    crew=crew,\n",
    "    name=\"solve math problem\",\n",
    "    description=f\"\"\"Create a nice human-readable solution to the following problem:\n",
    "    {problems[0]}\"\"\",\n",
    "    agent=solver,\n",
    ")\n",
    "\n",
    "# Get your crew to work!\n",
    "crew.run()\n",
    "\n",
    "display(task.output)"
   ]
  },
  {
   "cell_type": "code",
   "execution_count": 4,
   "id": "2cc1f331-bb24-488d-9387-890c015d8fb2",
   "metadata": {},
   "outputs": [
    {
     "data": {
      "text/latex": [
       "Final Answer: \n",
       "To solve the system of equations:\n",
       "\n",
       "\\[\n",
       "\\begin{align*}\n",
       "725x + 727y &= 1500 \\\\\n",
       "729x + 731y &= 1508\n",
       "\\end{align*}\n",
       "\\]\n",
       "\n",
       "we find the values of \\( x \\) and \\( y \\) to be:\n",
       "\n",
       "\\[\n",
       "x = -23, \\quad y = 25\n",
       "\\]\n",
       "\n",
       "Thus, the value of \\( x - y \\) is:\n",
       "\n",
       "\\[\n",
       "x - y = -23 - 25 = -48\n",
       "\\]\n",
       "\n",
       "Therefore, the solution is:\n",
       "\n",
       "\\[\n",
       "x = -23, \\quad y = 25, \\quad x - y = -48\n",
       "\\]"
      ],
      "text/plain": [
       "<IPython.core.display.Latex object>"
      ]
     },
     "metadata": {},
     "output_type": "display_data"
    }
   ],
   "source": [
    "from IPython.display import display, Math, Latex\n",
    "display(Latex(task.output))"
   ]
  }
 ],
 "metadata": {
  "kernelspec": {
   "display_name": ".venv",
   "language": "python",
   "name": "python3"
  },
  "language_info": {
   "codemirror_mode": {
    "name": "ipython",
    "version": 3
   },
   "file_extension": ".py",
   "mimetype": "text/x-python",
   "name": "python",
   "nbconvert_exporter": "python",
   "pygments_lexer": "ipython3",
   "version": "3.11.13"
  }
 },
 "nbformat": 4,
 "nbformat_minor": 5
}
