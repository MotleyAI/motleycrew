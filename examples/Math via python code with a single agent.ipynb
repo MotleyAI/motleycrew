{
 "cells": [
  {
   "cell_type": "markdown",
   "id": "957999a7-2c5d-439d-b536-2763a1b6e50e",
   "metadata": {},
   "source": [
    "# Math via python code with a single agent"
   ]
  },
  {
   "cell_type": "markdown",
   "id": "6b3d1d80-1ec3-4cb6-85a2-cd3330595860",
   "metadata": {},
   "source": [
    "The point of this example is to illustrate that for agents that have an AgentExecutor (which most frameworks have apart from Autogen), the approach from [MathChat](https://microsoft.github.io/autogen/blog/2023/06/28/MathChat/) can be done with a single agent, as the second conversation partner there just plays the role of an AgentExecutor."
   ]
  },
  {
   "cell_type": "code",
   "execution_count": 20,
   "id": "51527a55-d470-4509-9930-01466e3f78f3",
   "metadata": {},
   "outputs": [
    {
     "data": {
      "text/plain": [
       "True"
      ]
     },
     "execution_count": 20,
     "metadata": {},
     "output_type": "execute_result"
    }
   ],
   "source": [
    "import os, sys\n",
    "from pathlib import Path\n",
    "from dotenv import load_dotenv\n",
    "\n",
    "WORKING_DIR = Path(os.path.realpath(\".\"))\n",
    "\n",
    "\n",
    "try: \n",
    "    from motleycrew import MotleyCrew\n",
    "except ImportError:\n",
    "    # if we are running this from source\n",
    "    motleycrew_location = os.path.realpath( \"..\")\n",
    "    sys.path.append(motleycrew_location)\n",
    "\n",
    "from motleycrew import MotleyCrew\n",
    "from motleycrew.agents.llama_index import ReActLlamaIndexMotleyAgent\n",
    "from motleycrew.tools import PythonREPLTool\n",
    "from motleycrew.common import configure_logging\n",
    "from motleycrew.tasks import SimpleTask\n",
    "\n",
    "configure_logging(verbose=True)\n",
    "load_dotenv()"
   ]
  },
  {
   "cell_type": "code",
   "execution_count": 21,
   "id": "9f527af7-a6ad-4259-88a2-43c8dacdb8ea",
   "metadata": {},
   "outputs": [
    {
     "name": "stderr",
     "output_type": "stream",
     "text": [
      "2024-07-08 13:02:43,218 - motleycrew - INFO - No db_path provided, creating temporary directory for database\n",
      "2024-07-08 13:02:43,219 - motleycrew - INFO - Using Kuzu graph store with path: C:\\Users\\User\\AppData\\Local\\Temp\\tmp926r1y8q\\kuzu_db\n",
      "2024-07-08 13:02:43,249 - motleycrew - INFO - Node table MotleyGraphNode does not exist in the database, creating\n",
      "2024-07-08 13:02:43,259 - motleycrew - INFO - Relation table dummy from MotleyGraphNode to MotleyGraphNode does not exist in the database, creating\n",
      "2024-07-08 13:02:43,267 - motleycrew - INFO - Node table TaskNode does not exist in the database, creating\n",
      "2024-07-08 13:02:43,276 - motleycrew - INFO - Property name not present in table for label TaskNode, creating\n",
      "2024-07-08 13:02:43,284 - motleycrew - INFO - Property done not present in table for label TaskNode, creating\n",
      "2024-07-08 13:02:43,292 - motleycrew - INFO - Node table SimpleTaskUnit does not exist in the database, creating\n",
      "2024-07-08 13:02:43,300 - motleycrew - INFO - Property status not present in table for label SimpleTaskUnit, creating\n",
      "2024-07-08 13:02:43,310 - motleycrew - INFO - Property output not present in table for label SimpleTaskUnit, creating\n",
      "2024-07-08 13:02:43,311 - motleycrew - WARNING - No known Cypher type matching annotation typing.Optional[typing.Any], will use JSON string\n",
      "2024-07-08 13:02:43,319 - motleycrew - INFO - Property name not present in table for label SimpleTaskUnit, creating\n",
      "2024-07-08 13:02:43,329 - motleycrew - INFO - Property prompt not present in table for label SimpleTaskUnit, creating\n",
      "2024-07-08 13:02:43,337 - motleycrew - INFO - Property message_history not present in table for label SimpleTaskUnit, creating\n",
      "2024-07-08 13:02:43,338 - motleycrew - WARNING - No known Cypher type matching annotation typing.List[str], will use JSON string\n",
      "2024-07-08 13:02:43,347 - motleycrew - INFO - Relation table SimpleTaskUnit_belongs from SimpleTaskUnit to TaskNode does not exist in the database, creating\n",
      "2024-07-08 13:02:43,357 - motleycrew - INFO - Inserting new node with label TaskNode: name='solve math problem' done=False\n",
      "2024-07-08 13:02:43,366 - motleycrew - INFO - Node created OK\n",
      "2024-07-08 13:02:43,368 - motleycrew - INFO - Relation table task_is_upstream from TaskNode to TaskNode does not exist in the database, creating\n",
      "2024-07-08 13:02:43,395 - motleycrew - INFO - Available tasks: [SimpleTask(name=solve math problem, done=False)]\n",
      "2024-07-08 13:02:43,414 - motleycrew - INFO - Available tasks: [SimpleTask(name=solve math problem, done=False)]\n",
      "2024-07-08 13:02:43,415 - motleycrew - INFO - Processing task: SimpleTask(name=solve math problem, done=False)\n",
      "2024-07-08 13:02:43,444 - motleycrew - INFO - Got a matching unit for task SimpleTask(name=solve math problem, done=False)\n",
      "2024-07-08 13:02:43,445 - motleycrew - INFO - Processing unit: TaskUnit(status=pending)\n",
      "2024-07-08 13:02:43,445 - motleycrew - INFO - Assigned unit TaskUnit(status=pending) to agent ReActLlamaIndexMotleyAgent(name=High School Math Teacher), dispatching\n",
      "2024-07-08 13:02:43,445 - motleycrew - INFO - Node TaskUnit(status=running) does not exist, creating\n",
      "2024-07-08 13:02:43,447 - motleycrew - INFO - Inserting new node with label SimpleTaskUnit: TaskUnit(status=running)\n",
      "2024-07-08 13:02:43,447 - motleycrew - WARNING - No known Cypher type matching annotation typing.List[str], will use JSON string\n",
      "2024-07-08 13:02:43,458 - motleycrew - INFO - Node created OK\n",
      "2024-07-08 13:02:43,486 - motleycrew - INFO - Relation from TaskUnit(status=running) to name='solve math problem' done=False does not exist, creating\n",
      "2024-07-08 13:02:43,490 - motleycrew - INFO - Creating relation SimpleTaskUnit_belongs from SimpleTaskUnit:0 to TaskNode:0\n",
      "2024-07-08 13:02:43,498 - motleycrew - INFO - Relation created OK\n"
     ]
    },
    {
     "name": "stdout",
     "output_type": "stream",
     "text": [
      "\u001b[1;3;38;5;200mThought: The current language of the user is: English. I need to use a tool to help me answer the question.\n",
      "Action: python_repl\n",
      "Action Input: {'command': \"from sympy import symbols, Eq, solve\\nx, y = symbols('x y')\\nequation1 = Eq(725*x + 727*y, 1500)\\nequation2 = Eq(729*x + 731*y, 1508)\\nsolution = solve((equation1, equation2), (x, y))\\nx_value = solution[x]\\ny_value = solution[y]\\nx_minus_y = x_value - y_value\\nsolution, x_minus_y\"}\n",
      "\u001b[0m\u001b[1;3;34mObservation: \n",
      "\u001b[0m\u001b[1;3;38;5;200mThought: I need to re-run the code to get the solution and the value of \\( x - y \\).\n",
      "Action: python_repl\n",
      "Action Input: {'command': \"from sympy import symbols, Eq, solve\\nx, y = symbols('x y')\\nequation1 = Eq(725*x + 727*y, 1500)\\nequation2 = Eq(729*x + 731*y, 1508)\\nsolution = solve((equation1, equation2), (x, y))\\nx_value = solution[x]\\ny_value = solution[y]\\nx_minus_y = x_value - y_value\\nprint(solution, x_minus_y)\"}\n",
      "\u001b[0m\u001b[1;3;34mObservation: {x: -23, y: 25} -48\n",
      "\n",
      "\u001b[0m"
     ]
    },
    {
     "name": "stderr",
     "output_type": "stream",
     "text": [
      "2024-07-08 13:02:55,572 - motleycrew - WARNING - No known Cypher type matching annotation typing.Optional[typing.Any], will use JSON string\n",
      "2024-07-08 13:02:55,579 - motleycrew - INFO - Task unit TaskUnit(status=running) completed, marking as done\n",
      "2024-07-08 13:02:55,607 - motleycrew - INFO - Available tasks: []\n",
      "2024-07-08 13:02:55,624 - motleycrew - INFO - Available tasks: []\n",
      "2024-07-08 13:02:55,626 - motleycrew - INFO - Nothing left to do, exiting\n"
     ]
    },
    {
     "name": "stdout",
     "output_type": "stream",
     "text": [
      "\u001b[1;3;38;5;200mThought: I can answer without using any more tools. I'll use the user's language to answer\n",
      "Answer: To solve the system of equations:\n",
      "\\[ 725x + 727y = 1500 \\]\n",
      "\\[ 729x + 731y = 1508 \\]\n",
      "\n",
      "we first solve for \\( x \\) and \\( y \\). Using the sympy library, we find:\n",
      "\\[ x = -23 \\]\n",
      "\\[ y = 25 \\]\n",
      "\n",
      "Next, we calculate \\( x - y \\):\n",
      "\\[ x - y = -23 - 25 = -48 \\]\n",
      "\n",
      "Thus, the values are:\n",
      "\\[ x = -23 \\]\n",
      "\\[ y = 25 \\]\n",
      "\\[ x - y = -48 \\]\n",
      "\u001b[0m"
     ]
    },
    {
     "data": {
      "text/plain": [
       "'To solve the system of equations:\\n\\\\[ 725x + 727y = 1500 \\\\]\\n\\\\[ 729x + 731y = 1508 \\\\]\\n\\nwe first solve for \\\\( x \\\\) and \\\\( y \\\\). Using the sympy library, we find:\\n\\\\[ x = -23 \\\\]\\n\\\\[ y = 25 \\\\]\\n\\nNext, we calculate \\\\( x - y \\\\):\\n\\\\[ x - y = -23 - 25 = -48 \\\\]\\n\\nThus, the values are:\\n\\\\[ x = -23 \\\\]\\n\\\\[ y = 25 \\\\]\\n\\\\[ x - y = -48 \\\\]'"
      ]
     },
     "metadata": {},
     "output_type": "display_data"
    }
   ],
   "source": [
    "\"\"\"Main function of running the example.\"\"\"\n",
    "repl_tool = PythonREPLTool()\n",
    "\n",
    "# Define your agents with roles and goals\n",
    "solver = ReActLlamaIndexMotleyAgent(\n",
    "        name=\"High School Math Teacher\",\n",
    "        prompt_prefix=\"\"\"You are a high school math teacher with a passion for problem-solving.\n",
    "To solve a math problem, you first reason about it, step by step, then generate the code to solve it exactly,\n",
    "using sympy library, then use the REPL tool to evaluate that code, and then\n",
    "use the output to generate a human-readable solution in LaTeX format. \n",
    "Don't use dashes to indicate bullet points, don't output any backticks, just the LaTeX\"\"\",\n",
    "        verbose=True,\n",
    "        description=\"Generate great solutions to math problems\",\n",
    "        tools=[repl_tool],\n",
    "    )\n",
    "\n",
    "problems = [\n",
    "    \"Problem: If $725x + 727y = 1500$ and $729x+ 731y = 1508$, \"\n",
    "    \"what are the values of $x$, $y$, and $x - y$ ?\",\n",
    "]\n",
    "\n",
    "# Create tasks for your agents\n",
    "crew = MotleyCrew()\n",
    "task = SimpleTask(crew = crew,\n",
    "    name=\"solve math problem\",\n",
    "    description=f\"\"\"Create a nice human-readable solution to the following problem:\n",
    "    {problems[0]}\"\"\",\n",
    "    agent=solver,\n",
    ")\n",
    "\n",
    "# Get your crew to work!\n",
    "crew.run()\n",
    "\n",
    "display(task.output)"
   ]
  },
  {
   "cell_type": "code",
   "execution_count": 22,
   "id": "2cc1f331-bb24-488d-9387-890c015d8fb2",
   "metadata": {},
   "outputs": [
    {
     "data": {
      "text/latex": [
       "To solve the system of equations:"
      ],
      "text/plain": [
       "<IPython.core.display.Latex object>"
      ]
     },
     "metadata": {},
     "output_type": "display_data"
    },
    {
     "data": {
      "text/latex": [
       "\\[ 725x + 727y = 1500 \\]"
      ],
      "text/plain": [
       "<IPython.core.display.Latex object>"
      ]
     },
     "metadata": {},
     "output_type": "display_data"
    },
    {
     "data": {
      "text/latex": [
       "\\[ 729x + 731y = 1508 \\]"
      ],
      "text/plain": [
       "<IPython.core.display.Latex object>"
      ]
     },
     "metadata": {},
     "output_type": "display_data"
    },
    {
     "data": {
      "text/latex": [],
      "text/plain": [
       "<IPython.core.display.Latex object>"
      ]
     },
     "metadata": {},
     "output_type": "display_data"
    },
    {
     "data": {
      "text/latex": [
       "we first solve for \\( x \\) and \\( y \\). Using the sympy library, we find:"
      ],
      "text/plain": [
       "<IPython.core.display.Latex object>"
      ]
     },
     "metadata": {},
     "output_type": "display_data"
    },
    {
     "data": {
      "text/latex": [
       "\\[ x = -23 \\]"
      ],
      "text/plain": [
       "<IPython.core.display.Latex object>"
      ]
     },
     "metadata": {},
     "output_type": "display_data"
    },
    {
     "data": {
      "text/latex": [
       "\\[ y = 25 \\]"
      ],
      "text/plain": [
       "<IPython.core.display.Latex object>"
      ]
     },
     "metadata": {},
     "output_type": "display_data"
    },
    {
     "data": {
      "text/latex": [],
      "text/plain": [
       "<IPython.core.display.Latex object>"
      ]
     },
     "metadata": {},
     "output_type": "display_data"
    },
    {
     "data": {
      "text/latex": [
       "Next, we calculate \\( x - y \\):"
      ],
      "text/plain": [
       "<IPython.core.display.Latex object>"
      ]
     },
     "metadata": {},
     "output_type": "display_data"
    },
    {
     "data": {
      "text/latex": [
       "\\[ x - y = -23 - 25 = -48 \\]"
      ],
      "text/plain": [
       "<IPython.core.display.Latex object>"
      ]
     },
     "metadata": {},
     "output_type": "display_data"
    },
    {
     "data": {
      "text/latex": [],
      "text/plain": [
       "<IPython.core.display.Latex object>"
      ]
     },
     "metadata": {},
     "output_type": "display_data"
    },
    {
     "data": {
      "text/latex": [
       "Thus, the values are:"
      ],
      "text/plain": [
       "<IPython.core.display.Latex object>"
      ]
     },
     "metadata": {},
     "output_type": "display_data"
    },
    {
     "data": {
      "text/latex": [
       "\\[ x = -23 \\]"
      ],
      "text/plain": [
       "<IPython.core.display.Latex object>"
      ]
     },
     "metadata": {},
     "output_type": "display_data"
    },
    {
     "data": {
      "text/latex": [
       "\\[ y = 25 \\]"
      ],
      "text/plain": [
       "<IPython.core.display.Latex object>"
      ]
     },
     "metadata": {},
     "output_type": "display_data"
    },
    {
     "data": {
      "text/latex": [
       "\\[ x - y = -48 \\]"
      ],
      "text/plain": [
       "<IPython.core.display.Latex object>"
      ]
     },
     "metadata": {},
     "output_type": "display_data"
    }
   ],
   "source": [
    "from IPython.display import display, Math, Latex\n",
    "for line in task.output.split(\"\\n\"):\n",
    "    display(Latex(line))"
   ]
  },
  {
   "cell_type": "code",
   "execution_count": 23,
   "id": "65199e11-e903-470a-942e-855a83ea263e",
   "metadata": {},
   "outputs": [],
   "source": [
    "final_result = task.output"
   ]
  }
 ],
 "metadata": {
  "kernelspec": {
   "display_name": "Python 3 (ipykernel)",
   "language": "python",
   "name": "python3"
  },
  "language_info": {
   "codemirror_mode": {
    "name": "ipython",
    "version": 3
   },
   "file_extension": ".py",
   "mimetype": "text/x-python",
   "name": "python",
   "nbconvert_exporter": "python",
   "pygments_lexer": "ipython3",
   "version": "3.10.8"
  }
 },
 "nbformat": 4,
 "nbformat_minor": 5
}
