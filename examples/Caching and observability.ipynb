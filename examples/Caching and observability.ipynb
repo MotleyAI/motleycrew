{
 "cells": [
  {
   "cell_type": "markdown",
   "id": "a17c962c-a1e7-44d4-8dd9-5a2d37f7c3af",
   "metadata": {},
   "source": [
    "# Caching and observability"
   ]
  },
  {
   "cell_type": "markdown",
   "id": "88482bb2-4cfc-49e6-98bb-7540d70abebc",
   "metadata": {},
   "source": [
    "Motleycrew provides a universal caching engine that caches LLM and tool calls, as well as other web requests out of the box.  \n",
    "It works with all requests made using most popular Python HTTP clients: `requests`, `HTTPX`, and `Curl CFFI`.\n",
    "\n",
    "We also provide integration with [Lunary](https://lunary.ai), an open-source observability platform.  \n",
    "To enable tracking via Lunary, you need to set the `LUNARY_PUBLIC_KEY` environment variable.\n",
    "\n",
    "We will demonstrate the tracking and caching capabilities on a simple task with one agent and one tool."
   ]
  },
  {
   "cell_type": "code",
   "execution_count": 2,
   "id": "f111d0f5-4bf8-45ae-8d0a-5cdef85bc5fc",
   "metadata": {},
   "outputs": [],
   "source": [
    "from motleycrew import MotleyCrew\n",
    "from motleycrew.agents.langchain.react import ReactMotleyAgent\n",
    "from motleycrew.tasks import SimpleTask\n",
    "from langchain_community.tools import DuckDuckGoSearchRun"
   ]
  },
  {
   "cell_type": "code",
   "execution_count": 3,
   "id": "4a0e4da9-c425-4a1a-966b-0395b4faccc2",
   "metadata": {},
   "outputs": [],
   "source": [
    "from motleycrew.caching import enable_cache\n",
    "enable_cache()  # Caching is on!"
   ]
  },
  {
   "cell_type": "code",
   "execution_count": 5,
   "id": "e113c847-3e3a-4f29-859b-a34fb7649b6e",
   "metadata": {},
   "outputs": [
    {
     "name": "stderr",
     "output_type": "stream",
     "text": [
      "WARNING:root:Multithreading is not implemented yet, will run in single thread\n",
      "WARNING:root:No known Cypher type matching annotation typing.Optional[typing.Any], will use JSON string\n",
      "WARNING:root:No known Cypher type matching annotation typing.List[str], will use JSON string\n",
      "WARNING:root:No known Cypher type matching annotation typing.List[str], will use JSON string\n",
      "WARNING:root:No known Cypher type matching annotation typing.Optional[typing.Any], will use JSON string\n"
     ]
    },
    {
     "data": {
      "text/plain": [
       "[TaskUnit(status=done)]"
      ]
     },
     "execution_count": 5,
     "metadata": {},
     "output_type": "execute_result"
    }
   ],
   "source": [
    "crew = MotleyCrew()\n",
    "\n",
    "duckduckgo_search = DuckDuckGoSearchRun()\n",
    "\n",
    "writer = ReactMotleyAgent(\n",
    "    name=\"writer\",\n",
    "    description=\"Using the results of a web search, write an article on the latest advancements in AI in 2024.\",\n",
    "    tools=[duckduckgo_search],\n",
    ")\n",
    "\n",
    "task = SimpleTask(\n",
    "    crew=crew,\n",
    "    agent=writer,\n",
    "    name=\"write an article on the latest advancements in AI\",\n",
    "    description=\"Using the results of a web search, write an article on the latest advancements in AI in 2024. \"\n",
    "                \"Write in a way that speaks to the general audience.\"\n",
    ")\n",
    "crew.run()"
   ]
  },
  {
   "cell_type": "markdown",
   "id": "494c8f39-e74a-46f0-ae9b-f45aa1cc47e2",
   "metadata": {},
   "source": [
    "The second call should be cached, let's make sure:"
   ]
  },
  {
   "cell_type": "code",
   "execution_count": 6,
   "id": "c48f42a1-fcfa-419b-aa64-76b4476b058e",
   "metadata": {},
   "outputs": [
    {
     "name": "stderr",
     "output_type": "stream",
     "text": [
      "WARNING:root:Multithreading is not implemented yet, will run in single thread\n",
      "WARNING:root:No known Cypher type matching annotation typing.List[str], will use JSON string\n",
      "WARNING:root:No known Cypher type matching annotation typing.Optional[typing.Any], will use JSON string\n"
     ]
    },
    {
     "data": {
      "text/plain": [
       "[TaskUnit(status=done)]"
      ]
     },
     "execution_count": 6,
     "metadata": {},
     "output_type": "execute_result"
    }
   ],
   "source": [
    "task = SimpleTask(\n",
    "    crew=crew,\n",
    "    agent=writer,\n",
    "    name=\"write an article on the latest advancements in AI\",\n",
    "    description=\"Using the results of a web search, write an article on the latest advancements in AI in 2024. \"\n",
    "                \"Write in a way that speaks to the general audience.\"\n",
    ")\n",
    "crew.run()"
   ]
  },
  {
   "cell_type": "markdown",
   "id": "8546f152-55fd-49b9-a079-5f51493742db",
   "metadata": {},
   "source": [
    "You can also set the specific URLs which should be cached using a whitelist."
   ]
  },
  {
   "cell_type": "code",
   "execution_count": null,
   "id": "cccb2f26-6ce2-4f8d-9ba3-4e6c9b5da293",
   "metadata": {},
   "outputs": [],
   "source": [
    "from motleycrew.caching import set_cache_whitelist, set_cache_blacklist\n",
    "set_cache_whitelist([\"*//api.openai.com/*\"])  # Will only cache OpenAI API requests\n",
    "\n",
    "# Alternatively, you can specify a blacklist\n",
    "# set_cache_blacklist([\"*duckduckgo.com/*\"])"
   ]
  },
  {
   "cell_type": "code",
   "execution_count": null,
   "id": "0810ff9a-c9de-4665-9ece-45afc535064f",
   "metadata": {},
   "outputs": [],
   "source": [
    "task = SimpleTask(\n",
    "    crew=crew,\n",
    "    agent=writer,\n",
    "    name=\"write an article on the latest advancements in AI\",\n",
    "    description=\"Using the results of a web search, write an article on the latest advancements in AI in 2024. \"\n",
    "                \"Write in a way that speaks to the general audience.\"\n",
    ")\n",
    "crew.run()"
   ]
  },
  {
   "cell_type": "code",
   "execution_count": 6,
   "id": "2bc613ef-12e4-4b9b-bb5c-f2283bae8c7c",
   "metadata": {},
   "outputs": [
    {
     "data": {
      "text/markdown": [
       "**The Dawn of Practical AI: How 2024 is Shaping the Future of Artificial Intelligence**\n",
       "\n",
       "As we step further into 2024, artificial intelligence (AI) continues to evolve at an unprecedented pace, bringing about innovations that promise to transform everyday life. This year, we are witnessing AI become more practical, accessible, and integrated into our daily routines. Here’s a look at some of the most significant advancements in AI this year.\n",
       "\n",
       "**1. Multimodal AI: A New Frontier**\n",
       "One of the standout developments in AI is the rise of multimodal AI. Unlike traditional models that process data in a single mode, such as text or images, multimodal AI can understand and generate information across various forms including text, audio, and visual content. This advancement allows for more natural interactions with technology, making AI systems more intuitive and effective in understanding human needs.\n",
       "\n",
       "**2. Google Veo: Challenging the Norms**\n",
       "Google has introduced Veo, a powerful AI model capable of creating high-quality video clips from text prompts. This tool not only showcases the capabilities of generative AI but also sets a new standard for content creation, offering creators and professionals a novel way to produce visual content quickly and efficiently.\n",
       "\n",
       "**3. OpenAI's Leap with GPT-4**\n",
       "OpenAI continues to lead with its groundbreaking work, this year unveiling GPT-4. This iteration of the famed generative pre-trained transformer model enhances the way AI understands and generates human-like text, making it a valuable tool for a range of applications from writing assistance to customer service.\n",
       "\n",
       "**4. Ethical AI: A Growing Focus**\n",
       "Amidst these technological leaps, there is a growing emphasis on the ethics of AI development. The industry is seeing a shift towards more responsible AI, with developers and companies becoming increasingly aware of the need to create AI that is not only powerful but also safe and fair. Regulations are also catching up, aiming to ensure that AI advancements benefit society while minimizing risks such as privacy breaches and misinformation.\n",
       "\n",
       "**5. The Changing Role of AI Leadership**\n",
       "Interestingly, 2024 has also seen changes in how organizations structure their AI leadership. There is a trend towards integrating the roles of data, analytics, and AI chiefs, reflecting a more unified approach to technology governance that emphasizes strategic and responsible use of AI.\n",
       "\n",
       "As AI continues to evolve, it is clear that 2024 is a pivotal year for this technology. With advancements that enhance both the capabilities and the ethical standards of AI, we are moving towards a future where AI is not just a tool of convenience but a transformative force for good. Whether you're a tech enthusiast or simply curious about the future, the developments in AI this year are sure to spark your imagination and offer a glimpse into the exciting possibilities ahead."
      ],
      "text/plain": [
       "<IPython.core.display.Markdown object>"
      ]
     },
     "metadata": {},
     "output_type": "display_data"
    }
   ],
   "source": [
    "from IPython.display import display, Markdown\n",
    "display(Markdown(task.output))"
   ]
  }
 ],
 "metadata": {
  "kernelspec": {
   "display_name": "Python 3 (ipykernel)",
   "language": "python",
   "name": "python3"
  },
  "language_info": {
   "codemirror_mode": {
    "name": "ipython",
    "version": 3
   },
   "file_extension": ".py",
   "mimetype": "text/x-python",
   "name": "python",
   "nbconvert_exporter": "python",
   "pygments_lexer": "ipython3",
   "version": "3.12.2"
  }
 },
 "nbformat": 4,
 "nbformat_minor": 5
}
