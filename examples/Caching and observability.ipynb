{
 "cells": [
  {
   "cell_type": "markdown",
   "id": "a17c962c-a1e7-44d4-8dd9-5a2d37f7c3af",
   "metadata": {},
   "source": [
    "# Caching and observability"
   ]
  },
  {
   "cell_type": "code",
   "execution_count": null,
   "id": "14a64d7d-de4e-44a1-b7f4-da8ff6c92724",
   "metadata": {},
   "outputs": [],
   "source": []
  }
 ],
 "metadata": {
  "kernelspec": {
   "display_name": "Python 3 (ipykernel)",
   "language": "python",
   "name": "python3"
  },
  "language_info": {
   "codemirror_mode": {
    "name": "ipython",
    "version": 3
   },
   "file_extension": ".py",
   "mimetype": "text/x-python",
   "name": "python",
   "nbconvert_exporter": "python",
   "pygments_lexer": "ipython3",
   "version": "3.11.7"
  }
 },
 "nbformat": 4,
 "nbformat_minor": 5
}
