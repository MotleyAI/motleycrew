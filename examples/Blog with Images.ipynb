{
 "cells": [
  {
   "cell_type": "markdown",
   "id": "87b73640",
   "metadata": {},
   "source": [
    "# Blog with images"
   ]
  },
  {
   "cell_type": "markdown",
   "id": "bf3534fb-ed51-4a82-ad66-71259b2e282f",
   "metadata": {},
   "source": [
    "We use this example of creating a web search-based blog with illustrations to show how to \n",
    "\n",
    "* give agents as tools to other agents\n",
    "* create tasks and link them using the >> operator"
   ]
  },
  {
   "cell_type": "markdown",
   "id": "6ab41b51-2064-4623-866b-f4310d062425",
   "metadata": {},
   "source": [
    "Let's install external dependencies for the example."
   ]
  },
  {
   "cell_type": "code",
   "execution_count": 1,
   "id": "e8d44edb-4841-4f3c-822c-136276606e09",
   "metadata": {},
   "outputs": [
    {
     "name": "stdout",
     "output_type": "stream",
     "text": [
      "Requirement already satisfied: duckduckgo-search in /Users/whimo/motleycrew/.venv/lib/python3.11/site-packages (8.1.1)\n",
      "Requirement already satisfied: click>=8.1.8 in /Users/whimo/motleycrew/.venv/lib/python3.11/site-packages (from duckduckgo-search) (8.2.1)\n",
      "Requirement already satisfied: primp>=0.15.0 in /Users/whimo/motleycrew/.venv/lib/python3.11/site-packages (from duckduckgo-search) (0.15.0)\n",
      "Requirement already satisfied: lxml>=5.3.0 in /Users/whimo/motleycrew/.venv/lib/python3.11/site-packages (from duckduckgo-search) (6.0.0)\n",
      "\n",
      "\u001b[1m[\u001b[0m\u001b[34;49mnotice\u001b[0m\u001b[1;39;49m]\u001b[0m\u001b[39;49m A new release of pip is available: \u001b[0m\u001b[31;49m24.3.1\u001b[0m\u001b[39;49m -> \u001b[0m\u001b[32;49m25.1.1\u001b[0m\n",
      "\u001b[1m[\u001b[0m\u001b[34;49mnotice\u001b[0m\u001b[1;39;49m]\u001b[0m\u001b[39;49m To update, run: \u001b[0m\u001b[32;49mpip install --upgrade pip\u001b[0m\n",
      "Note: you may need to restart the kernel to use updated packages.\n"
     ]
    }
   ],
   "source": [
    "%pip install duckduckgo-search\n",
    "\n",
    "# install lunary if you need logging\n",
    "# %pip install lunary==1.1.5"
   ]
  },
  {
   "cell_type": "code",
   "execution_count": 2,
   "id": "2596164c",
   "metadata": {},
   "outputs": [
    {
     "name": "stderr",
     "output_type": "stream",
     "text": [
      "/Users/whimo/motleycrew/.venv/lib/python3.11/site-packages/lunary/__init__.py:3: UserWarning: pkg_resources is deprecated as an API. See https://setuptools.pypa.io/en/latest/pkg_resources.html. The pkg_resources package is slated for removal as early as 2025-11-30. Refrain from using this package or pin to Setuptools<81.\n",
      "  from pkg_resources import parse_version\n"
     ]
    },
    {
     "data": {
      "text/plain": [
       "True"
      ]
     },
     "execution_count": 2,
     "metadata": {},
     "output_type": "execute_result"
    }
   ],
   "source": [
    "from pathlib import Path\n",
    "import os\n",
    "import sys\n",
    "\n",
    "from dotenv import load_dotenv\n",
    "from langchain_community.tools import DuckDuckGoSearchRun\n",
    "\n",
    "WORKING_DIR = Path(os.path.realpath(\".\"))\n",
    "\n",
    "try:\n",
    "    from motleycrew import MotleyCrew\n",
    "except ImportError:\n",
    "    # if we are running this from source\n",
    "    motleycrew_location = os.path.realpath(WORKING_DIR / \"..\")\n",
    "    sys.path.append(motleycrew_location)\n",
    "\n",
    "from motleycrew import MotleyCrew\n",
    "from motleycrew.agents.langchain import ReActToolCallingMotleyAgent\n",
    "from motleycrew.tools import MotleyTool, RetryConfig\n",
    "from motleycrew.tools.image.dall_e import DallEImageGeneratorTool\n",
    "from motleycrew.common import configure_logging\n",
    "from motleycrew.tasks import SimpleTask\n",
    "\n",
    "configure_logging()\n",
    "load_dotenv()"
   ]
  },
  {
   "cell_type": "markdown",
   "id": "0c099c23-9c49-4385-a91d-ecc062155bf3",
   "metadata": {},
   "source": [
    "First, we create a fairly conventional agent that has a search tool. "
   ]
  },
  {
   "cell_type": "code",
   "execution_count": 3,
   "id": "c90e7903-e7fc-44fb-b10a-0007e56f10a5",
   "metadata": {},
   "outputs": [],
   "source": [
    "search_tool = MotleyTool.from_supported_tool(\n",
    "    DuckDuckGoSearchRun(), retry_config=RetryConfig(max_retries=7)  # for retrying rate limit errors\n",
    ")\n",
    "\n",
    "# The name and description are helpers, they are not included in the prompt\n",
    "researcher = ReActToolCallingMotleyAgent(\n",
    "    name=\"Senior Research Analyst\",\n",
    "    description=\"Agent that conducts research on AI and data science\",\n",
    "    prompt=\"You work at a leading tech think tank. \"\n",
    "    \"Your expertise lies in identifying emerging trends. \"\n",
    "    \"You have a knack for dissecting complex data and presenting actionable insights. \"\n",
    "    \"You uncover cutting-edge developments in AI and data science, doing web search if necessary. \"\n",
    "    \"\\n\\n{prompt}\",\n",
    "    verbose=True,\n",
    "    tools=[search_tool],\n",
    ")"
   ]
  },
  {
   "cell_type": "markdown",
   "id": "d675f0df-e47b-40db-ba7a-69fa6f38484b",
   "metadata": {},
   "source": [
    "Now the fun starts happening: we pass that agent to another agent as a tool. That's how delegation works in motleycrew: you just pass agents as tools to other agents; the API is automatically converted under the hood."
   ]
  },
  {
   "cell_type": "code",
   "execution_count": 4,
   "id": "9328ccb5-2bc4-4cdb-acca-c95af642eff9",
   "metadata": {},
   "outputs": [],
   "source": [
    "# You can give agents as tools to other agents\n",
    "writer = ReActToolCallingMotleyAgent(\n",
    "    name=\"AI writer agent\",\n",
    "    prompt=\"You are an expert writer for a tech blog. \"\n",
    "    \"You like to write about complex topics in a way that is easy to understand, \"\n",
    "    \"with the help of the researcher agent.\"\n",
    "    \"\\n\\n{prompt}\",\n",
    "    tools=[researcher],\n",
    "    verbose=True,\n",
    ")"
   ]
  },
  {
   "cell_type": "markdown",
   "id": "4ff89e64-543a-4404-9868-abd0cdd28e11",
   "metadata": {},
   "source": [
    "\n",
    "The `{prompt}` placeholders are where the task-specific prompts will go.\n",
    "\n",
    "Let's create a first task, writing a blog post, and give it to the writer agent. We'll need to instantiate a crew first as a crew orchestrates the tasks."
   ]
  },
  {
   "cell_type": "code",
   "execution_count": 5,
   "id": "6a9de88c-a1be-482a-a3d2-9954f94cfe52",
   "metadata": {},
   "outputs": [],
   "source": [
    "# You always need a crew to orchestrate the agents\n",
    "crew = MotleyCrew()\n",
    "\n",
    "blog_post_task = SimpleTask(\n",
    "    crew=crew,\n",
    "    name=\"produce blog post on AI advancements\",\n",
    "    description=\"Develop an engaging blog post that highlights the latest AI advancements in 2025. \"\n",
    "    \"Your post should be informative yet accessible, catering to a tech-savvy audience. \"\n",
    "    \"Make it sound cool, avoid complex words so it doesn't sound like AI. \"\n",
    "    \"Create a blog post of at least 4 paragraphs, in markdown format.\",\n",
    "    agent=writer,\n",
    ")"
   ]
  },
  {
   "cell_type": "markdown",
   "id": "eda8ffdf-0b8b-4cf8-8e05-c66c7a574080",
   "metadata": {},
   "source": [
    "Now let's create a second task, to generate and insert into the blog some illustrations."
   ]
  },
  {
   "cell_type": "code",
   "execution_count": 6,
   "id": "e414e877-566c-49d5-933a-8e7bc088ff33",
   "metadata": {},
   "outputs": [],
   "source": [
    "# Illustrator\n",
    "image_generator_tool = DallEImageGeneratorTool(os.path.realpath(\"./images\"),\n",
    "                                               model=\"dall-e-3\",\n",
    "                                               refine_prompt_with_llm=True,\n",
    "                                               size=\"1024x1024\",\n",
    "                                               style=\"vivid\")\n",
    "\n",
    "illustrator = ReActToolCallingMotleyAgent(\n",
    "    name=\"Illustrator\",\n",
    "    description=\"Create beautiful and insightful illustrations for a blog post\",\n",
    "    tools=[image_generator_tool],\n",
    ")\n",
    "\n",
    "illustration_task = SimpleTask(\n",
    "    crew=crew,\n",
    "    name=\"create an illustration for the blog post\",\n",
    "    description=\"Create beautiful and insightful illustrations to accompany the blog post on AI advancements. \"\n",
    "    \"The blog post will be provided to you in markdown format. \"\n",
    "    \"Make sure to use the illustration tool provided to you, once per illustration, \"\n",
    "    \"and embed the URL provided by the tool into the blog post. \"\n",
    "    \"Create between 2 and 3 illustrations, neither more nor less.\\n\"\n",
    "    \"Only return the full text of the blog post with embedded URLs, no backticks, no other text. \"\n",
    "    \"Only use slashes as path separators, never backslashes\",\n",
    "    agent=illustrator,\n",
    ")"
   ]
  },
  {
   "cell_type": "markdown",
   "id": "14f77cc4-0750-4be8-923a-991bfc9ccef7",
   "metadata": {},
   "source": [
    "Now let's connect the two tasks, and run them!"
   ]
  },
  {
   "cell_type": "code",
   "execution_count": null,
   "id": "54c7b7fb-e544-4d23-bd56-dedd9c8a15b1",
   "metadata": {},
   "outputs": [
    {
     "name": "stdout",
     "output_type": "stream",
     "text": [
      "\n",
      "\n",
      "\u001b[1m> Entering new AgentExecutor chain...\u001b[0m\n",
      "\u001b[32;1m\u001b[1;3m\n",
      "Invoking: `senior_research_analyst` with `{'input': 'latest AI advancements in 2025'}`\n",
      "responded: Thought: To write an engaging blog post about the latest AI advancements in 2025, I need to gather information on the most recent developments and breakthroughs in AI technology. This will help ensure that the content is both current and relevant. I will use the senior_research_analyst tool to research the latest AI advancements in 2025.\n",
      "\n",
      "Let's proceed with gathering this information.\n",
      "\n",
      "\u001b[0m\n",
      "\n",
      "\u001b[1m> Entering new AgentExecutor chain...\u001b[0m\n",
      "\u001b[32;1m\u001b[1;3m\n",
      "Invoking: `duckduckgo_search` with `{'query': 'latest AI advancements 2025'}`\n",
      "responded: Thought: To provide the latest AI advancements in 2025, I need to perform a web search to gather current information on this topic. I will use the DuckDuckGo search tool to find relevant and up-to-date information about AI developments in 2025.\n",
      "\n",
      "\n",
      "\n",
      "\u001b[0m"
     ]
    },
    {
     "name": "stderr",
     "output_type": "stream",
     "text": [
      "/Users/whimo/motleycrew/.venv/lib/python3.11/site-packages/langchain_community/utilities/duckduckgo_search.py:63: RuntimeWarning: This package (`duckduckgo_search`) has been renamed to `ddgs`! Use `pip install ddgs` instead.\n",
      "  with DDGS() as ddgs:\n"
     ]
    },
    {
     "name": "stdout",
     "output_type": "stream",
     "text": [
      "\u001b[36;1m\u001b[1;3mJul 24, 2025 · PwC’s mid-year AI check-in: get the latest on 2025 AI predictions, discover which trends are accelerating or fading, and gain action-ready insights to stay ahead. May 21, 2025 · Many of the most important AI trends in the first half of 2025 reflect changes in how the industry is applying existing ideas—some pragmatic and productive, others less so. … Jan 3, 2025 · Explore the key trends shaping AI in 2025, from multimodal models and AI agents to security challenges and evolving regulatory landscapes. Jun 23, 2025 · In 2025, there’s a new AI tool for everything – text, images, coding, video, you name it, and professionals are eager to know “what’s the best tool for making their work easy?” This … Jun 13, 2025 · The breakthroughs span across healthcare, finance, transportation, robotics, communication, and more. As leading industry pioneers, we explore the most impactful AI …\u001b[0m\u001b[32;1m\u001b[1;3mFinal Answer: In 2025, AI advancements are characterized by several key trends and developments:\n",
      "\n",
      "1. **Multimodal Models and AI Agents**: There is a significant focus on developing AI systems that can process and integrate multiple types of data, such as text, images, and audio, to perform complex tasks. AI agents are becoming more sophisticated, capable of handling a variety of tasks autonomously.\n",
      "\n",
      "2. **Industry-Specific Applications**: AI is being increasingly tailored to specific industries, with notable breakthroughs in healthcare, finance, transportation, and robotics. These advancements are aimed at improving efficiency, accuracy, and decision-making processes within these sectors.\n",
      "\n",
      "3. **Security Challenges**: As AI systems become more integrated into critical infrastructure, addressing security challenges is a major focus. This includes developing robust systems to protect against cyber threats and ensuring data privacy.\n",
      "\n",
      "4. **Regulatory Landscapes**: The evolving regulatory environment is shaping how AI technologies are developed and deployed. There is a growing emphasis on ethical AI, transparency, and accountability in AI systems.\n",
      "\n",
      "5. **Proliferation of AI Tools**: There is a wide array of AI tools available for various applications, from text and image processing to coding and video creation. These tools are designed to make professional tasks easier and more efficient.\n",
      "\n",
      "These trends reflect a combination of technological innovation and practical application, driving the AI industry forward in 2025.\u001b[0m\n",
      "\n",
      "\u001b[1m> Finished chain.\u001b[0m\n",
      "\u001b[36;1m\u001b[1;3mFinal Answer: In 2025, AI advancements are characterized by several key trends and developments:\n",
      "\n",
      "1. **Multimodal Models and AI Agents**: There is a significant focus on developing AI systems that can process and integrate multiple types of data, such as text, images, and audio, to perform complex tasks. AI agents are becoming more sophisticated, capable of handling a variety of tasks autonomously.\n",
      "\n",
      "2. **Industry-Specific Applications**: AI is being increasingly tailored to specific industries, with notable breakthroughs in healthcare, finance, transportation, and robotics. These advancements are aimed at improving efficiency, accuracy, and decision-making processes within these sectors.\n",
      "\n",
      "3. **Security Challenges**: As AI systems become more integrated into critical infrastructure, addressing security challenges is a major focus. This includes developing robust systems to protect against cyber threats and ensuring data privacy.\n",
      "\n",
      "4. **Regulatory Landscapes**: The evolving regulatory environment is shaping how AI technologies are developed and deployed. There is a growing emphasis on ethical AI, transparency, and accountability in AI systems.\n",
      "\n",
      "5. **Proliferation of AI Tools**: There is a wide array of AI tools available for various applications, from text and image processing to coding and video creation. These tools are designed to make professional tasks easier and more efficient.\n",
      "\n",
      "These trends reflect a combination of technological innovation and practical application, driving the AI industry forward in 2025.\u001b[0m\u001b[32;1m\u001b[1;3mFinal Answer: \n",
      "\n",
      "# The Coolest AI Advancements of 2025: A Peek into the Future\n",
      "\n",
      "Welcome to 2025, where AI is not just a buzzword but a transformative force reshaping our world. This year, AI has taken some giant leaps, making it an exciting time for tech enthusiasts and professionals alike. Let's dive into the coolest advancements that are making waves in the AI landscape.\n",
      "\n",
      "## Multimodal Models and AI Agents\n",
      "\n",
      "Imagine an AI that can understand and process text, images, and audio all at once. That's the power of multimodal models, a major trend in 2025. These AI systems are like supercharged assistants, capable of performing complex tasks by integrating different types of data. Whether it's helping doctors diagnose diseases by analyzing medical images and patient records or creating immersive virtual experiences, these AI agents are setting new standards for what machines can do.\n",
      "\n",
      "## Tailored AI for Every Industry\n",
      "\n",
      "AI is no longer a one-size-fits-all solution. In 2025, we're seeing AI tailored to specific industries, bringing about breakthroughs in healthcare, finance, transportation, and robotics. In healthcare, AI is improving diagnostic accuracy and personalizing treatment plans. In finance, it's enhancing fraud detection and automating trading. The transportation sector is witnessing smarter, safer autonomous vehicles, while robotics is seeing more efficient and adaptable machines. These industry-specific applications are not just improving efficiency but also revolutionizing how we approach problems.\n",
      "\n",
      "## Tackling Security and Ethical Challenges\n",
      "\n",
      "With great power comes great responsibility, and AI is no exception. As AI systems become more integrated into our daily lives, security challenges are at the forefront. In 2025, there's a strong focus on developing robust systems to protect against cyber threats and ensure data privacy. Moreover, the regulatory landscape is evolving, emphasizing ethical AI, transparency, and accountability. These efforts are crucial in building trust and ensuring that AI technologies are used responsibly.\n",
      "\n",
      "## A Toolbox of AI Wonders\n",
      "\n",
      "The proliferation of AI tools in 2025 is nothing short of amazing. From text and image processing to coding and video creation, there's an AI tool for almost every professional task. These tools are designed to make our lives easier, allowing us to focus on creativity and innovation. Whether you're a developer, a designer, or a content creator, AI is here to enhance your workflow and open up new possibilities.\n",
      "\n",
      "In conclusion, 2025 is a landmark year for AI, marked by technological innovation and practical application. As we continue to explore the potential of AI, one thing is clear: the future is bright, and it's powered by artificial intelligence.\u001b[0m\n",
      "\n",
      "\u001b[1m> Finished chain.\u001b[0m\n"
     ]
    }
   ],
   "source": [
    "# Make sure the illustration task runs only once the blog post task is complete, and gets its input\n",
    "blog_post_task >> illustration_task\n",
    "\n",
    "# Get your crew to work!\n",
    "result = crew.run()"
   ]
  },
  {
   "cell_type": "markdown",
   "id": "2ae3c916-c920-473e-b7da-ee60bf0f6893",
   "metadata": {},
   "source": [
    "Let's display the result (swapping absolute for relative paths, as Jupyter seems to struggle with the former)"
   ]
  },
  {
   "cell_type": "code",
   "execution_count": 8,
   "id": "54ed121a-1fd5-428d-8de9-40cd3e3cc5fc",
   "metadata": {},
   "outputs": [
    {
     "data": {
      "text/markdown": [
       "Final Answer: \n",
       "\n",
       "# The Coolest AI Advancements of 2025: A Peek into the Future\n",
       "\n",
       "Welcome to 2025, where AI is not just a buzzword but a transformative force reshaping our world. This year, AI has taken some giant leaps, making it an exciting time for tech enthusiasts and professionals alike. Let's dive into the coolest advancements that are making waves in the AI landscape.\n",
       "\n",
       "## Multimodal Models and AI Agents\n",
       "\n",
       "Imagine an AI that can understand and process text, images, and audio all at once. That's the power of multimodal models, a major trend in 2025. These AI systems are like supercharged assistants, capable of performing complex tasks by integrating different types of data. Whether it's helping doctors diagnose diseases by analyzing medical images and patient records or creating immersive virtual experiences, these AI agents are setting new standards for what machines can do.\n",
       "\n",
       "![Multimodal Models and AI Agents](./images/eea26ec6.png)\n",
       "\n",
       "## Tailored AI for Every Industry\n",
       "\n",
       "AI is no longer a one-size-fits-all solution. In 2025, we're seeing AI tailored to specific industries, bringing about breakthroughs in healthcare, finance, transportation, and robotics. In healthcare, AI is improving diagnostic accuracy and personalizing treatment plans. In finance, it's enhancing fraud detection and automating trading. The transportation sector is witnessing smarter, safer autonomous vehicles, while robotics is seeing more efficient and adaptable machines. These industry-specific applications are not just improving efficiency but also revolutionizing how we approach problems.\n",
       "\n",
       "![Tailored AI for Every Industry](./images/c78b2d72.png)\n",
       "\n",
       "## Tackling Security and Ethical Challenges\n",
       "\n",
       "With great power comes great responsibility, and AI is no exception. As AI systems become more integrated into our daily lives, security challenges are at the forefront. In 2025, there's a strong focus on developing robust systems to protect against cyber threats and ensure data privacy. Moreover, the regulatory landscape is evolving, emphasizing ethical AI, transparency, and accountability. These efforts are crucial in building trust and ensuring that AI technologies are used responsibly.\n",
       "\n",
       "![Tackling Security and Ethical Challenges](./images/2d980b25.png)\n",
       "\n",
       "## A Toolbox of AI Wonders\n",
       "\n",
       "The proliferation of AI tools in 2025 is nothing short of amazing. From text and image processing to coding and video creation, there's an AI tool for almost every professional task. These tools are designed to make our lives easier, allowing us to focus on creativity and innovation. Whether you're a developer, a designer, or a content creator, AI is here to enhance your workflow and open up new possibilities.\n",
       "\n",
       "In conclusion, 2025 is a landmark year for AI, marked by technological innovation and practical application. As we continue to explore the potential of AI, one thing is clear: the future is bright, and it's powered by artificial intelligence."
      ],
      "text/plain": [
       "<IPython.core.display.Markdown object>"
      ]
     },
     "metadata": {},
     "output_type": "display_data"
    }
   ],
   "source": [
    "from IPython.display import Markdown, display\n",
    "here = os.path.realpath(\".\").replace(os.sep,\"/\")\n",
    "display(Markdown(illustration_task.output.replace(here,\".\")))"
   ]
  }
 ],
 "metadata": {
  "kernelspec": {
   "display_name": ".venv",
   "language": "python",
   "name": "python3"
  },
  "language_info": {
   "codemirror_mode": {
    "name": "ipython",
    "version": 3
   },
   "file_extension": ".py",
   "mimetype": "text/x-python",
   "name": "python",
   "nbconvert_exporter": "python",
   "pygments_lexer": "ipython3",
   "version": "3.11.13"
  }
 },
 "nbformat": 4,
 "nbformat_minor": 5
}
